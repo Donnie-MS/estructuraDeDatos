{
  "cells": [
    {
      "cell_type": "markdown",
      "metadata": {
        "id": "42630xxYD0gZ"
      },
      "source": [
        "# ![alt text](https://upload.wikimedia.org/wikipedia/commons/thumb/c/c3/Python-logo-notext.svg/50px-Python-logo-notext.svg.png) **Trabajo Práctico 1: Introducción a Python Parte 1** ![alt text](https://upload.wikimedia.org/wikipedia/commons/thumb/c/c3/Python-logo-notext.svg/50px-Python-logo-notext.svg.png)\n",
        "\n",
        "En estos ejercicios vamos a trabajar cosas que nos permitan empezar a programar esquinausando Python.\n",
        "\n",
        "La idea es que ustedes vayan resolviendo los ejercicios sin la necesidad de instalarse nada en sus computadoras.\n",
        "Antes que nada, creen una copia de este archivo en su ***Google Drive*** para tener permisos de edición, luego pueden compartirlo con quien quieran, tengan cuidado con los permisos al momento de compartir!!!!!!!. Si quieren, nos pueden compartir su documento para que ayudemos con las dudas.\n",
        "\n",
        "### **sergio.gonzalez@unahur.edu.ar** ###\n",
        "\n",
        "En los bloques de código como el que les aparece aca abajo, se puede programar en Python, al pararse dentro del bloque, aparecerá un ícono de \"*play*\" en la esquina superior izquierda, \"*clickeando*\" en este ícono, se ejecuta el código escrito y se muestra la salida debajo, probemos:"
      ]
    },
    {
      "cell_type": "code",
      "execution_count": null,
      "metadata": {
        "colab": {
          "base_uri": "https://localhost:8080/"
        },
        "id": "IH0qfE_oTzyR",
        "outputId": "274a21ea-e01f-44b8-c900-d6f3a1b2bc7d"
      },
      "outputs": [
        {
          "output_type": "stream",
          "name": "stdout",
          "text": [
            "perro 12 20.8\n",
            "12\n"
          ]
        }
      ],
      "source": [
        "#int -> numeros enteros\n",
        "#float -> numeros decimales\n",
        "#bool -> True o False\n",
        "#str -> cadenas de caracteres \"palabras\"\n",
        "\n",
        "var = \"perro\"\n",
        "varNumerica = 12\n",
        "varFloat = 20.8\n",
        "\n",
        "print(var, varNumerica, varFloat)\n",
        "print(varNumerica)"
      ]
    },
    {
      "cell_type": "code",
      "source": [
        "varEntrada = input(\"Ingrese un numero:\")\n",
        "\n",
        "print(type(varEntrada))"
      ],
      "metadata": {
        "colab": {
          "base_uri": "https://localhost:8080/"
        },
        "id": "TZqOzN3pHy7K",
        "outputId": "25b327e8-58dc-4230-dd26-7129ee7b1204"
      },
      "execution_count": null,
      "outputs": [
        {
          "output_type": "stream",
          "name": "stdout",
          "text": [
            "Ingrese un numero:122132131\n",
            "<class 'str'>\n"
          ]
        }
      ]
    },
    {
      "cell_type": "markdown",
      "metadata": {
        "id": "YiSL7GMcLOO9"
      },
      "source": [
        "Una cosa a tener en cuenta es que todos los bloques de código estan conectados  entre sí, es por eso que si vemos en el bloque de código de abajo, podemos usar la variable \"varNumerica\" declarada en el bloque anterior, veamos un ejemplo:"
      ]
    },
    {
      "cell_type": "code",
      "execution_count": null,
      "metadata": {
        "id": "XTQPIJfZAH8h",
        "colab": {
          "base_uri": "https://localhost:8080/"
        },
        "outputId": "3ab5e986-5a25-4434-866e-b330d077280d"
      },
      "outputs": [
        {
          "output_type": "stream",
          "name": "stdout",
          "text": [
            "casaperro\n"
          ]
        }
      ],
      "source": [
        "#Operadores aritmeticos\n",
        "# + -> suma\n",
        "# - -> resta\n",
        "# * -> producto\n",
        "# / -> cociente decimal\n",
        "# // -> cociente entero\n",
        "# % -> resto del cociente entero\n",
        "# ** -> potencia\n",
        "\n",
        "num1 = \"casa\"\n",
        "num2 = \"perro\"\n",
        "\n",
        "res = num1 + num2\n",
        "\n",
        "print(res)"
      ]
    },
    {
      "cell_type": "code",
      "source": [
        "#Operadores logicos\n",
        "# and -> interseccion (Y)\n",
        "# or -> union (O)\n",
        "# not -> negacion (NO)\n",
        "\n",
        "var1 = True\n",
        "var2 = False\n",
        "\n",
        "res = var1 or var2\n",
        "\n",
        "print(res)"
      ],
      "metadata": {
        "colab": {
          "base_uri": "https://localhost:8080/"
        },
        "id": "tnTfh_yaKiXh",
        "outputId": "425dc76e-c874-494b-87b5-6aad14c40b54"
      },
      "execution_count": null,
      "outputs": [
        {
          "output_type": "stream",
          "name": "stdout",
          "text": [
            "True\n"
          ]
        }
      ]
    },
    {
      "cell_type": "code",
      "source": [
        "#Operadores de comparacion\n",
        "# == -> igual\n",
        "# != -> distinto\n",
        "# > -> mayor\n",
        "# < -> menor\n",
        "# >= -> mayor o igual\n",
        "# <= -> menor o igual\n",
        "\n",
        "var1 = 12\n",
        "var2 = 10\n",
        "\n",
        "res = var1 <= var2\n",
        "\n",
        "print(res)\n",
        "\n",
        "#Comparacion de orden alfabetico entre strings solo funciona bien entre todo mayusculoa o todo minuscula, no mezclado"
      ],
      "metadata": {
        "colab": {
          "base_uri": "https://localhost:8080/"
        },
        "id": "mIJ_efY7LZkD",
        "outputId": "042554ec-af81-497e-aa92-35841c3a7f37"
      },
      "execution_count": null,
      "outputs": [
        {
          "output_type": "stream",
          "name": "stdout",
          "text": [
            "False\n"
          ]
        }
      ]
    },
    {
      "cell_type": "code",
      "source": [
        "#int() -> constructor de enteros\n",
        "#float() -> constructor de floats\n",
        "#str() -> constructor de strings\n",
        "#bool() -> constructor de bools\n",
        "\n",
        "var1 = 12.3\n",
        "var2 = int(var1)\n",
        "\n",
        "print(type(var1), var1)\n",
        "print(type(var2), var2)"
      ],
      "metadata": {
        "colab": {
          "base_uri": "https://localhost:8080/"
        },
        "id": "AzTngm3cMnKP",
        "outputId": "5f257933-02d0-4b8d-c7b7-fb32131d2a20"
      },
      "execution_count": null,
      "outputs": [
        {
          "output_type": "stream",
          "name": "stdout",
          "text": [
            "<class 'float'> 12.3\n",
            "<class 'int'> 12\n"
          ]
        }
      ]
    },
    {
      "cell_type": "code",
      "source": [
        "varEntrada = int(input(\"Ingrese un numero: \"))\n",
        "\n",
        "print(type(varEntrada), varEntrada)"
      ],
      "metadata": {
        "colab": {
          "base_uri": "https://localhost:8080/"
        },
        "id": "FYu4xzE2NyiI",
        "outputId": "4ee8da26-6b38-4e79-d6cc-14b8aecb39fa"
      },
      "execution_count": null,
      "outputs": [
        {
          "output_type": "stream",
          "name": "stdout",
          "text": [
            "Ingrese un numero: 12\n",
            "<class 'int'> 12\n"
          ]
        }
      ]
    },
    {
      "cell_type": "code",
      "source": [
        "#Expresiones\n",
        "#Usamos una mezcla de operadpres logicos y de comparacion\n",
        "\n",
        "#---------------|--------------------------|----------------------------\n",
        "#               10                        25\n",
        "\n",
        "#Escribir un programa que pida un numero por teclado e imprima si su siguiente se encuentra en el intervalo 10-25 (abierto)\n",
        "limiteInferior = 5\n",
        "limiteSuperior = 80\n",
        "\n",
        "numProblema = int(input(\"Ingrese un numero: \"))\n",
        "\n",
        "res = (numProblema+1 > limiteInferior) and (numProblema+1 < limiteSuperior)\n",
        "\n",
        "print(res)"
      ],
      "metadata": {
        "colab": {
          "base_uri": "https://localhost:8080/"
        },
        "id": "yizJ9S_DOt9j",
        "outputId": "f10f5d6b-af63-4b52-9e95-eb0df2d3bf53"
      },
      "execution_count": null,
      "outputs": [
        {
          "output_type": "stream",
          "name": "stdout",
          "text": [
            "Ingrese un numero: 30\n",
            "False\n"
          ]
        }
      ]
    },
    {
      "cell_type": "markdown",
      "metadata": {
        "id": "SWxNqIroNiiS"
      },
      "source": [
        "Ahora si, luego de las aclaraciones del caso y sabiendo como escribir y ejecutar código en los bloques de este archivo, empezamos con la guía."
      ]
    },
    {
      "cell_type": "markdown",
      "metadata": {
        "id": "JspwDwHavN5s"
      },
      "source": [
        "#**Primera parte: Declaración de variables y operaciones básicas**"
      ]
    },
    {
      "cell_type": "markdown",
      "metadata": {
        "id": "nbWbQ1jTO3AP"
      },
      "source": [
        "### **Ejercicio 1**\n",
        "\n",
        "Primer programa en Python. Escribir un programa que imprima por pantalla \"Hola mundo\"."
      ]
    },
    {
      "cell_type": "code",
      "execution_count": null,
      "metadata": {
        "id": "joL3PhcCL-6Z"
      },
      "outputs": [],
      "source": []
    },
    {
      "cell_type": "markdown",
      "metadata": {
        "id": "dNJ7NrxMMTXf"
      },
      "source": [
        "### **Ejercicio 2**\n",
        "\n",
        "Escribir un programa que cargue en una variable la cadena de caracteres “Hola mundo” y luego la imprima por pantalla."
      ]
    },
    {
      "cell_type": "code",
      "execution_count": null,
      "metadata": {
        "id": "Y4N45RZKMb3J"
      },
      "outputs": [],
      "source": []
    },
    {
      "cell_type": "markdown",
      "metadata": {
        "id": "G3Dwrq7lNVdx"
      },
      "source": [
        "### **Ejercicio 3**\n",
        "\n",
        "Escribir un programa que cree dos variables enteras, le asigne números arbitrarios (cualquiera) y muestre por pantalla: la suma, la resta, la multiplicación, la división entera y el resto de la división entera."
      ]
    },
    {
      "cell_type": "code",
      "execution_count": null,
      "metadata": {
        "id": "tXIUdY6VN48C"
      },
      "outputs": [],
      "source": []
    },
    {
      "cell_type": "markdown",
      "metadata": {
        "id": "55LHODvxOHbW"
      },
      "source": [
        "### **Ejercicio 4**\n",
        "\n",
        "Implementar algoritmos que permitan:\n",
        "\n",
        "\n",
        "*   Calcular el perímetro y el área de un rectángulo, dada su base y su altura\n",
        "*   Calcular el perímetro y el área de un círculo dado su radio.\n",
        "\n",
        "Declarar las variables necesarias y asignarle números arbitrarios"
      ]
    },
    {
      "cell_type": "code",
      "execution_count": null,
      "metadata": {
        "id": "SvRdQvtQOGgo"
      },
      "outputs": [],
      "source": [
        "#P(R) = 2*b + 2*h\n",
        "#A(R) = b*h\n",
        "#P(C) = 2*3.14*r\n",
        "#A(C) = 3.14*r*r\n",
        "#Operador potencia: 5**2"
      ]
    },
    {
      "cell_type": "markdown",
      "metadata": {
        "id": "j34Vr_TaN5v7"
      },
      "source": [
        "### **Ejercicio 5**\n",
        "\n",
        "Escribir un programa que pida una temperatura en grados Celsius al usuario, realice la transformación de grados Celsius a Fahrenheit e imprima el resultado por pantalla."
      ]
    },
    {
      "cell_type": "code",
      "execution_count": null,
      "metadata": {
        "id": "2NMYcPsFPVoY"
      },
      "outputs": [],
      "source": [
        "#T(C) = 1.8*C + 32"
      ]
    },
    {
      "cell_type": "markdown",
      "metadata": {
        "id": "V4TXH8iygA5S"
      },
      "source": [
        "### **Ejercicio 6**\n",
        "\n",
        "Escribir un programa que pregunte por el número de horas trabajadas y el costo por hora. Después debe mostrar por pantalla el sueldo que corresponde."
      ]
    },
    {
      "cell_type": "code",
      "execution_count": null,
      "metadata": {
        "id": "q5h196hQgBUy",
        "colab": {
          "base_uri": "https://localhost:8080/"
        },
        "outputId": "ce63c069-1507-4d65-ebe2-c883e6acf7f0"
      },
      "outputs": [
        {
          "output_type": "stream",
          "name": "stdout",
          "text": [
            "Ingrese la cantdad de horas: 12\n",
            "Ingrese el costo por hora: 2\n",
            "El sueldo total es:24.0\n"
          ]
        }
      ],
      "source": [
        "horasTrabajadas = float(input(\"Ingrese la cantdad de horas: \"))\n",
        "costoPorHoras = float(input(\"Ingrese el costo por hora: \"))\n",
        "\n",
        "sueldoTotal = horasTrabajadas * costoPorHoras\n",
        "\n",
        "print(f\"El sueldo total es: {sueldoTotal}\")"
      ]
    },
    {
      "cell_type": "markdown",
      "metadata": {
        "id": "hiC2Y35TgWN1"
      },
      "source": [
        "### **Ejercicio 7**\n",
        "\n",
        "Escribir un programa que pida un peso (en kg) y una estatura (en metros), calcule el índice de masa corporal y lo almacene en una variable. Luego debe muestrar por pantalla la frase: \"El índice de masa corporal es: \\<imc>\". Donde \\<imc> es el índice de masa corporal calculado."
      ]
    },
    {
      "cell_type": "code",
      "execution_count": null,
      "metadata": {
        "id": "q2Krl_PWgV3v"
      },
      "outputs": [],
      "source": [
        "#IMC(P,H) = P / (H*H)"
      ]
    },
    {
      "cell_type": "markdown",
      "metadata": {
        "id": "qeZrEYeuhP0Z"
      },
      "source": [
        "### **Ejercicio 8**\n",
        "\n",
        "Escribir un programa que pregunte una cantidad a invertir, el interés anual y el número de años, y muestre por pantalla el capital obtenido en la inversión."
      ]
    },
    {
      "cell_type": "code",
      "execution_count": null,
      "metadata": {
        "id": "xB0aHFqRhQRb"
      },
      "outputs": [],
      "source": [
        "#(1+IA/100)* C *Años"
      ]
    },
    {
      "cell_type": "markdown",
      "metadata": {
        "id": "_K12p-SIor7W"
      },
      "source": [
        "### **Ejercicio 9**\n",
        "\n",
        "Escribir un programa que pregunte un nombre completo en la consola y después muestre por pantalla ese nombre tres veces, una con todas las letras minúsculas, otra con todas las letras mayúsculas y otra solo con la primera letra del nombre y de los apellidos en mayúscula. Se puede introducir un nombre combinando mayúsculas y minúsculas como se quiera."
      ]
    },
    {
      "cell_type": "code",
      "execution_count": null,
      "metadata": {
        "id": "Ey98WZ5ZosRl"
      },
      "outputs": [],
      "source": [
        "#upper\n",
        "#lower\n",
        "#capitalize\n",
        "#title\n"
      ]
    },
    {
      "cell_type": "markdown",
      "metadata": {
        "id": "68VGBXIJmixr"
      },
      "source": [
        "### **Ejercicio 10**\n",
        "\n",
        "Escribir un programa que pregunte un nombre en la consola y después muestre por pantalla: \"El \\<NOMBRE> tiene \\<N> letras\", donde \\<NOMBRE> es el nombre ingresado todo en mayúsculas y \\<N> es el número de letras que tienen el nombre."
      ]
    },
    {
      "cell_type": "code",
      "execution_count": null,
      "metadata": {
        "id": "6kSdf8xkmjI3",
        "colab": {
          "base_uri": "https://localhost:8080/"
        },
        "outputId": "db07edc7-e263-4c46-f3aa-5ded5e2e311f"
      },
      "outputs": [
        {
          "output_type": "stream",
          "name": "stdout",
          "text": [
            "11\n"
          ]
        }
      ],
      "source": [
        "print(len(nombre))"
      ]
    },
    {
      "cell_type": "markdown",
      "metadata": {
        "id": "tg91sLnqsz3G"
      },
      "source": [
        "### **Ejercicio 11**\n",
        "\n",
        "Escribir un programa que pida una palabra, reemplace todas las letras \"a\" por \"z\" y muestre el resultado por pantalla."
      ]
    },
    {
      "cell_type": "code",
      "execution_count": null,
      "metadata": {
        "id": "hPpWslcQs0Oa",
        "colab": {
          "base_uri": "https://localhost:8080/",
          "height": 106
        },
        "outputId": "19d95cf1-3f7c-4293-f055-8708b78f77ac"
      },
      "outputs": [
        {
          "output_type": "error",
          "ename": "IndentationError",
          "evalue": "unexpected indent (<ipython-input-74-1335cbaa0e93>, line 13)",
          "traceback": [
            "\u001b[0;36m  File \u001b[0;32m\"<ipython-input-74-1335cbaa0e93>\"\u001b[0;36m, line \u001b[0;32m13\u001b[0m\n\u001b[0;31m    res = len(palabra)\u001b[0m\n\u001b[0m    ^\u001b[0m\n\u001b[0;31mIndentationError\u001b[0m\u001b[0;31m:\u001b[0m unexpected indent\n"
          ]
        }
      ],
      "source": [
        "#Operadores (funciones o metodos) sobre strings\n",
        "#lower -> pasar a minuscula\n",
        "#upper -> pasar a mayuscula\n",
        "#title -> para a mayuscula la primer letra  de todas las palabra\n",
        "#capitalize -> para a mayuscula la primer letra de la primer palabras\n",
        "#startswith -> Para testear el comienzo de un string\n",
        "#replace -> reemplaza caracteres por otros\n",
        "#len(string) -> cantidad de caracteres\n",
        "\n",
        "#se usan asi: variable.funcion(), salvo len que se usa: len(variable)\n",
        "\n",
        "palabra = \"hola  COMO  va\"\n",
        "res = len(palabra)\n",
        "print(palabra)\n",
        "print(res)\n",
        "\n",
        "#nombre.replace()"
      ]
    },
    {
      "cell_type": "markdown",
      "metadata": {
        "id": "1qwz086stewZ"
      },
      "source": [
        "### **Ejercicio 12**\n",
        "\n",
        "Escribir un programa que pida dos palabras y muestre por pantalla la concatenacion de ambas.  "
      ]
    },
    {
      "cell_type": "code",
      "execution_count": null,
      "metadata": {
        "id": "blEaekW5Pfo7"
      },
      "outputs": [],
      "source": []
    },
    {
      "cell_type": "markdown",
      "metadata": {
        "id": "yuLrj7QTtnIl"
      },
      "source": [
        "### **Ejercicio 13**\n",
        "\n",
        "Escribir un programa que pida una palabra y un número N y muestre por pantalla la palabra ingresada repetida N veces."
      ]
    },
    {
      "cell_type": "code",
      "execution_count": null,
      "metadata": {
        "id": "faif7mZYteUh"
      },
      "outputs": [],
      "source": []
    },
    {
      "cell_type": "markdown",
      "metadata": {
        "id": "L9d6sOSpuxCT"
      },
      "source": [
        "#**Segunda parte: Estructuras de control**"
      ]
    },
    {
      "cell_type": "code",
      "execution_count": null,
      "metadata": {
        "id": "_hdb9uKIOfdF",
        "colab": {
          "base_uri": "https://localhost:8080/"
        },
        "outputId": "3d10c2aa-5038-46f4-92f7-9c54bfb70b96"
      },
      "outputs": [
        {
          "output_type": "stream",
          "name": "stdout",
          "text": [
            "Ingrese un numero: 10\n",
            "iguales\n",
            "False\n"
          ]
        }
      ],
      "source": [
        "#---------------|--------------------------|----------------------------\n",
        "#               limInf                    limSup\n",
        "\n",
        "limiteInferior = 10\n",
        "limiteSuperior = 25\n",
        "var = False\n",
        "\n",
        "numProblema = int(input(\"Ingrese un numero: \"))\n",
        "if (numProblema > limiteInferior) and (numProblema < limiteSuperior):\n",
        "  print(\"incluido\")\n",
        "  var = True\n",
        "elif numProblema < limiteInferior:\n",
        "  print(\"menor\")\n",
        "elif numProblema > limiteSuperior:\n",
        "  print(\"mayor\")\n",
        "else:\n",
        "  print(\"iguales\")\n",
        "\n",
        "print(var)\n"
      ]
    },
    {
      "cell_type": "markdown",
      "metadata": {
        "id": "xp3VZsqMv7d3"
      },
      "source": [
        "### **Ejercicio 14**\n",
        "\n",
        "Escribir un programa que pregunte una edad y muestre por pantalla si es mayor de edad o no."
      ]
    },
    {
      "cell_type": "code",
      "execution_count": null,
      "metadata": {
        "id": "F3lyWaa-v7yv"
      },
      "outputs": [],
      "source": []
    },
    {
      "cell_type": "markdown",
      "metadata": {
        "id": "QNlHtEHdwKBp"
      },
      "source": [
        "### **Ejercicio 15**\n",
        "\n",
        "Escribir un programa que almacene la cadena de caracteres \"contraseña\" en una variable y luego pregunte por la contraseña e imprima por pantalla si la contraseña introducida en la consola coincide con la guardada en la variable sin tener en cuenta mayúsculas y minúsculas."
      ]
    },
    {
      "cell_type": "code",
      "execution_count": null,
      "metadata": {
        "id": "6-AbFKCjwKeq",
        "colab": {
          "base_uri": "https://localhost:8080/"
        },
        "outputId": "cb5cef33-49a7-4a87-8ce2-341b39cdc417"
      },
      "outputs": [
        {
          "output_type": "stream",
          "name": "stdout",
          "text": [
            "Ingrese la contraseña: ContraseÑa\n",
            "igual\n"
          ]
        }
      ],
      "source": [
        "passwd = \"contraseña\"\n",
        "passwdNuevo = input(\"Ingrese la contraseña: \")\n",
        "if passwd == passwdNuevo.lower():\n",
        "  print(\"igual\")\n",
        "else:\n",
        "  print(\"distinto\")\n"
      ]
    },
    {
      "cell_type": "markdown",
      "metadata": {
        "id": "ZJ0_6OxYPWZJ"
      },
      "source": [
        "### **Ejercicio 15 bis**\n",
        "\n",
        "Escribir un programa pida dos números enteros e informe por pantalla cual es menor de los dos, si son iguales, indicarlo por separado.\n"
      ]
    },
    {
      "cell_type": "code",
      "execution_count": null,
      "metadata": {
        "id": "SII_f1Zftfj5"
      },
      "outputs": [],
      "source": []
    },
    {
      "cell_type": "markdown",
      "metadata": {
        "id": "AnZ1kpoQPn3Y"
      },
      "source": [
        "### **Ejercicio 16**\n",
        "\n",
        "Escribir un programa que pida un número entero e indique si dicho número es par o impar."
      ]
    },
    {
      "cell_type": "code",
      "execution_count": null,
      "metadata": {
        "id": "8TFzQHzKPt-v",
        "colab": {
          "base_uri": "https://localhost:8080/"
        },
        "outputId": "2555ec65-c583-45aa-c3de-e93ebbe714c7"
      },
      "outputs": [
        {
          "output_type": "stream",
          "name": "stdout",
          "text": [
            "Ingrese un numero entero: 21\n",
            "Numero impar\n"
          ]
        }
      ],
      "source": [
        "N = int(input(\"Ingrese un numero entero: \"))\n",
        "if N%2 == 0:\n",
        "  print(\"Numero par\")\n",
        "else:\n",
        "  print(\"Numero impar\")\n"
      ]
    },
    {
      "cell_type": "markdown",
      "metadata": {
        "id": "Z1-LrF6Swkx_"
      },
      "source": [
        "###**Ejercicio 17**\n",
        "\n",
        "Para pagar un determinado impuesto se debe ser mayor de 18 años y tener unos ingresos iguales o superiores a $100000 mensuales. Escribir un programa que pregunte la edad y los ingresos mensuales y muestre por pantalla si se debe pagar o no."
      ]
    },
    {
      "cell_type": "code",
      "execution_count": null,
      "metadata": {
        "id": "FBMDycRlwlIY"
      },
      "outputs": [],
      "source": []
    },
    {
      "cell_type": "markdown",
      "metadata": {
        "id": "HIjqXTzoPuYU"
      },
      "source": [
        "### **Ejercicio 18**\n",
        "\n",
        "Escribir un programa que pida un número entero del 1 al 7 y muestre por pantalla el día de la semana correspondiente. Controlar que el número se encuentre en el rango correcto, si no es así, informar un error. Por ejemplo, si el número es 2 el día es martes."
      ]
    },
    {
      "cell_type": "code",
      "execution_count": null,
      "metadata": {
        "id": "6SztTz4yPz2k"
      },
      "outputs": [],
      "source": []
    },
    {
      "cell_type": "markdown",
      "metadata": {
        "id": "KY6T0NWfP0Pq"
      },
      "source": [
        "### **Ejercicio 19**\n",
        "\n",
        "Las y los alumnas y alumnos de un curso se han dividido en dos grupos A y B de acuerdo al género y el nombre. El grupo A esta formado por las personas de genero femenino con una inicial de nombre anterior a la M y las personas de genero masculino con un inicial de nombre posterior a la N y el grupo B por el resto. Escribir un programa que pregunte la inicial y el género, y muestre por pantalla el grupo que corresponde."
      ]
    },
    {
      "cell_type": "code",
      "execution_count": null,
      "metadata": {
        "id": "tXqowWynQzPJ"
      },
      "outputs": [],
      "source": []
    },
    {
      "cell_type": "markdown",
      "metadata": {
        "id": "YgtCaggoQzwr"
      },
      "source": [
        "### **Ejercicio 20**\n",
        "\n",
        "Escribir un programa para una empresa que tiene salas de juegos para todas las edades y quiere calcular de forma automática el precio que debe cobrar a sus clientes por entrar. El programa debe preguntar la edad del cliente y mostrar el precio de la entrada. Si el cliente es menor de 4 años puede entrar gratis, si tiene entre 4 y 18 años debe pagar \\$5 y si es mayor de 18 años, \\$10."
      ]
    },
    {
      "cell_type": "code",
      "execution_count": null,
      "metadata": {
        "id": "C2k49JqwREeG"
      },
      "outputs": [],
      "source": []
    },
    {
      "cell_type": "markdown",
      "metadata": {
        "id": "6h-hloqtswqX"
      },
      "source": [
        "### **Estructuras de control repetitivas**"
      ]
    },
    {
      "cell_type": "code",
      "source": [
        "#print(1)\n",
        "#print(2)\n",
        "#....\n",
        "#....\n",
        "#print(10)"
      ],
      "metadata": {
        "id": "5X2t8fJCa_uh"
      },
      "execution_count": null,
      "outputs": []
    },
    {
      "cell_type": "code",
      "execution_count": null,
      "metadata": {
        "id": "D7R1eqLtyTb1"
      },
      "outputs": [],
      "source": [
        "#range(N)=range(0,N,1) -> 0,1,2,3,4,....,N-1\n",
        "#range(1, 10, 2) -> 1,3,7,9\n",
        "#range(10,15) -> 10,11,12,13,14\n",
        "\n",
        "for varIteracion in range(5):\n",
        "  print(\"hola\", varIteracion)\n",
        "#afuera del for"
      ]
    },
    {
      "cell_type": "code",
      "source": [
        "#Sirve para repetir un bloque de codigo (iterar) mientras sea verdadera una condicion evalualda\n",
        "varCondicion = 0\n",
        "while varCondicion < 5:\n",
        "  print(\"hola\", varCondicion)\n",
        "  varCondicion = varCondicion + 1 # equivalente -> varCondicion += 1\n",
        "print(\"seguimos....\", varCondicion)"
      ],
      "metadata": {
        "id": "xbL3yXdsHouz",
        "colab": {
          "base_uri": "https://localhost:8080/"
        },
        "outputId": "249b446b-6e9f-4cb3-be75-34c8674da6c7"
      },
      "execution_count": null,
      "outputs": [
        {
          "output_type": "stream",
          "name": "stdout",
          "text": [
            "hola 0\n",
            "hola 1\n",
            "hola 2\n",
            "hola 3\n",
            "hola 4\n",
            "seguimos.... 5\n"
          ]
        }
      ]
    },
    {
      "cell_type": "code",
      "source": [
        "print(\"aca\", end=\" - \")\n",
        "print(\"aca de nuevo\")"
      ],
      "metadata": {
        "colab": {
          "base_uri": "https://localhost:8080/"
        },
        "id": "YjVff1bVf4UU",
        "outputId": "92f20984-3109-4d4a-cb4f-69a99cf957c0"
      },
      "execution_count": null,
      "outputs": [
        {
          "output_type": "stream",
          "name": "stdout",
          "text": [
            "aca - \n",
            "aca de nuevo\n"
          ]
        }
      ]
    },
    {
      "cell_type": "markdown",
      "metadata": {
        "id": "i_R4RvnqRE0e"
      },
      "source": [
        "### **Ejercicio 21**\n",
        "\n",
        "Mostrar por pantalla todos los números enteros entre 1 y 100, hacerlo usando un bucle while y tambien con un bucle for."
      ]
    },
    {
      "cell_type": "code",
      "execution_count": null,
      "metadata": {
        "id": "8xtW7IzBaE8x"
      },
      "outputs": [],
      "source": []
    },
    {
      "cell_type": "markdown",
      "metadata": {
        "id": "dsdrdUzNRVlx"
      },
      "source": [
        "### **Ejercicio 22**\n",
        "\n",
        "Escribir un programa que pida dos números enteros e imprima todos los números enteros entre ellos."
      ]
    },
    {
      "cell_type": "code",
      "execution_count": null,
      "metadata": {
        "id": "eiPpA7TmRjG_"
      },
      "outputs": [],
      "source": []
    },
    {
      "cell_type": "markdown",
      "metadata": {
        "id": "yuxsSussRjfn"
      },
      "source": [
        "### **Ejercicio 23**\n",
        "\n",
        "Escribir un programa que pregunte un nombre en la consola y un número entero e imprima por pantalla en líneas distintas el nombre tantas veces como el número introducido."
      ]
    },
    {
      "cell_type": "code",
      "execution_count": null,
      "metadata": {
        "id": "DGb1-6f_RsWP"
      },
      "outputs": [],
      "source": []
    },
    {
      "cell_type": "markdown",
      "metadata": {
        "id": "dnlPkC9XyCLe"
      },
      "source": [
        "###**Ejercicio 24**\n",
        "\n",
        "Escribir un programa que pida un número entero positivo y muestre por pantalla todos los números impares desde 1 hasta ese número."
      ]
    },
    {
      "cell_type": "code",
      "execution_count": null,
      "metadata": {
        "id": "fcDtiO_LyCiJ"
      },
      "outputs": [],
      "source": []
    },
    {
      "cell_type": "markdown",
      "metadata": {
        "id": "tsVLTkW8Rs-O"
      },
      "source": [
        "### **Ejercicio 25**\n",
        "\n",
        "Escribir un programa que pida un número entero y muestre por pantalla un triángulo rectángulo como el de más abajo, de altura igual al número introducido.\n",
        "\n",
        "Por ejemplo, si el usuario ingresa el numero 4:\n",
        "\n",
        "\\*\n",
        "\n",
        "\\* *\n",
        "\n",
        "\\* * *\n",
        "\n",
        "\\* * * *"
      ]
    },
    {
      "cell_type": "code",
      "execution_count": null,
      "metadata": {
        "id": "7ANmm0ROR9Tg",
        "colab": {
          "base_uri": "https://localhost:8080/"
        },
        "outputId": "95c1fddd-8ec7-444a-cf37-e5b6b274e480"
      },
      "outputs": [
        {
          "output_type": "stream",
          "name": "stdout",
          "text": [
            "Ingrese la cantidad de lineas: 10\n",
            "*\n",
            "**\n",
            "***\n",
            "****\n",
            "*****\n",
            "******\n",
            "*******\n",
            "********\n",
            "*********\n",
            "**********\n"
          ]
        }
      ],
      "source": [
        "#pedimos el numero al usuario/a\n",
        "#iterar sobre la variable i usando for una secuencia de 1 a N\n",
        "#operador * entre str y int N -> repite N veces el string\n",
        "#En cada iteracion imprimo por pantalla el producto de \"*\" y i\n",
        "N = int(input(\"Ingrese la cantidad de lineas: \"))\n",
        "\n",
        "for i in range(1,N+1):\n",
        "  print(\"*\"*i)"
      ]
    },
    {
      "cell_type": "markdown",
      "metadata": {
        "id": "ZZJCDA32R91Y"
      },
      "source": [
        "### **Ejercicio 26**\n",
        "\n",
        "Escribir un programa que imprima por pantalla todas las fichas del domino, una por línea, sin repetir.\n",
        "\n",
        "0 | 0 - 0 | 1 - 0 | 2 - 0 | 3 - 0 | 4 - 0 | 5 - 0 | 6\n",
        "\n",
        "1 | 1 - 1 | 2 - 1 | 3 - 1 | 4 - 1 | 5 - 1 | 6\n",
        "\n",
        "2 | 2 - 2 | 3 - 2 | 4 - 2 | 5 - 2 | 6\n",
        "\n",
        "3 | 3 - 3 | 4 - 3 | 5 - 3 | 6\n",
        "\n",
        "4 | 4 - 4 | 5 - 4 | 6\n",
        "\n",
        "5 | 5 - 5 | 6\n",
        "\n",
        "6 | 6"
      ]
    },
    {
      "cell_type": "code",
      "execution_count": null,
      "metadata": {
        "id": "LTzYmPPWSFvO",
        "colab": {
          "base_uri": "https://localhost:8080/"
        },
        "outputId": "b20d25cf-7af1-44b4-ddae-5e4cedf1528a"
      },
      "outputs": [
        {
          "output_type": "stream",
          "name": "stdout",
          "text": [
            "0 | 0\n",
            "0 | 1\n",
            "0 | 2\n",
            "0 | 3\n",
            "0 | 4\n",
            "0 | 5\n",
            "0 | 6\n",
            "-------\n",
            "1 | 1\n",
            "1 | 2\n",
            "1 | 3\n",
            "1 | 4\n",
            "1 | 5\n",
            "1 | 6\n",
            "-------\n",
            "2 | 2\n",
            "2 | 3\n",
            "2 | 4\n",
            "2 | 5\n",
            "2 | 6\n",
            "-------\n",
            "3 | 3\n",
            "3 | 4\n",
            "3 | 5\n",
            "3 | 6\n",
            "-------\n",
            "4 | 4\n",
            "4 | 5\n",
            "4 | 6\n",
            "-------\n",
            "5 | 5\n",
            "5 | 6\n",
            "-------\n",
            "6 | 6\n",
            "-------\n"
          ]
        }
      ],
      "source": [
        "#Genero y recorro la secuncia de numeros entre 0 y 6\n",
        "#para cada numero, genero una nueva secuencia entre 0 y 6 y la recorro\n",
        "\n",
        "for numIzq in range(7): #0,1,2,3,4,5,6\n",
        "  for numDer in range(numIzq, 7): #0,1,2,3,4,5,6\n",
        "    print(numIzq, \"|\", numDer)\n",
        "  print(\"-------\")"
      ]
    },
    {
      "cell_type": "markdown",
      "metadata": {
        "id": "Hh19diZlyXek"
      },
      "source": [
        "###**Ejercicio 27**\n",
        "\n",
        "Escribir un programa que pida un número entero y muestre por pantalla un triángulo rectángulo como el de más abajo.\n",
        "\n",
        "Si el usuario ingresa el numero 5:\n",
        "\n",
        "1             \n",
        "\n",
        "3 1           \n",
        "\n",
        "5 3 1         \n",
        "\n",
        "7 5 3 1       \n",
        "\n",
        "9 7 5 3 1  "
      ]
    },
    {
      "cell_type": "code",
      "execution_count": null,
      "metadata": {
        "id": "f74HFoKKyX0F"
      },
      "outputs": [],
      "source": []
    },
    {
      "cell_type": "markdown",
      "metadata": {
        "id": "59Jbl5dbSGF2"
      },
      "source": [
        "\n",
        "### **Ejercicio 28**\n",
        "\n",
        "Escribir un programa que pida un número natural **N** e imprima por pantalla la suma de los números naturales de 1 hasta **N**.\n",
        "\n",
        "Por ejemplo para **N = 5**, la salida debe ser:\n",
        "\n",
        "1 + 2 + 3 + 4 + 5 = 15\n",
        "\n",
        "Solo debe imprimir el resultado final (por ejemplo 15)"
      ]
    },
    {
      "cell_type": "code",
      "execution_count": null,
      "metadata": {
        "id": "jIt2AeopSiVL"
      },
      "outputs": [],
      "source": []
    },
    {
      "cell_type": "markdown",
      "metadata": {
        "id": "8uQf2g92Sivq"
      },
      "source": [
        "### **Ejercicio 29**\n",
        "\n",
        "Construir un programa que lea un número natural **N** y calcule la suma de los primeros **N** números pares.\n",
        "-  Si N = 2 -> Resultado = 2 + 4\n",
        "-  Si N = 3 -> Resultado = 2 + 4 + 6\n",
        "-  Si N = 4 -> Resultado = 2 + 4 + 6 + 8\n",
        "-  ......\n",
        "-  Para cualquier N -> Resultado = 2 + 4 + 6 +....+ 2*N"
      ]
    },
    {
      "cell_type": "code",
      "execution_count": null,
      "metadata": {
        "id": "9ADJ8tgxSn2Q"
      },
      "outputs": [],
      "source": []
    },
    {
      "cell_type": "markdown",
      "metadata": {
        "id": "ZEi--gNXSoOZ"
      },
      "source": [
        "### **Ejercicio 30**\n",
        "\n",
        "Escribir un programa que pida dos números enteros e informa por pantalla todos los números pares entre ellos."
      ]
    },
    {
      "cell_type": "code",
      "execution_count": null,
      "metadata": {
        "id": "4_bYnYGESvV0"
      },
      "outputs": [],
      "source": []
    },
    {
      "cell_type": "markdown",
      "metadata": {
        "id": "tJwW9zpHSvwA"
      },
      "source": [
        "### **Ejercicio 31**\n",
        "\n",
        "Escribir un programa que pida un número entero y muestre por pantalla la cantidad de cifras de dicho número. Se debe resolver con divisiones sucesivas por 10 usando un bucle while."
      ]
    },
    {
      "cell_type": "code",
      "execution_count": null,
      "metadata": {
        "id": "RjduT381S13q",
        "colab": {
          "base_uri": "https://localhost:8080/"
        },
        "outputId": "6a42d5c8-3948-4c34-f234-b26fb387dc39"
      },
      "outputs": [
        {
          "output_type": "stream",
          "name": "stdout",
          "text": [
            "Ingrese un numero entero: 1234\n",
            "4\n"
          ]
        }
      ],
      "source": [
        "#tomo el numero y lo divido por 10 usando el cociente entero\n",
        "#cada vez que divido acumulo 1 en un contador\n",
        "#me guardo en la variable el resultado de la division entera para la proxima iteracion\n",
        "N = int(input(\"Ingrese un numero entero: \"))\n",
        "cantDigitos = 0\n",
        "if N == 0:\n",
        "  cantDigitos = 1\n",
        "else:\n",
        "  while N != 0:\n",
        "    N //= 10 #N = N // 10\n",
        "    cantDigitos += 1\n",
        "print(cantDigitos)\n",
        "\n"
      ]
    },
    {
      "cell_type": "markdown",
      "metadata": {
        "id": "zo91uPVAS2Tk"
      },
      "source": [
        "### **Ejercicio 32**\n",
        "\n",
        "Escribir un programa que pida un número entero e informe si dicho numero es primo o compuesto."
      ]
    },
    {
      "cell_type": "code",
      "source": [
        "def esDivisible(dividendo:int, divisor:int)->bool:\n",
        "  divisible = False\n",
        "  if dividendo % divisor == 0:\n",
        "    divisible = True\n",
        "  divisor = 50\n",
        "  return divisible"
      ],
      "metadata": {
        "id": "eGi5uFGVxOef"
      },
      "execution_count": null,
      "outputs": []
    },
    {
      "cell_type": "code",
      "execution_count": null,
      "metadata": {
        "id": "Ouev8laiS9vw",
        "colab": {
          "base_uri": "https://localhost:8080/"
        },
        "outputId": "f0d237c3-e070-4aec-8d93-dc42aaeeedb1"
      },
      "outputs": [
        {
          "output_type": "stream",
          "name": "stdout",
          "text": [
            "True\n",
            "10\n"
          ]
        }
      ],
      "source": [
        "#tomar el numero y contar cuantos divisores tiene que sean distintos de 1 y el mismo\n",
        "#iterando desde 2 hasta el anterior del numero\n",
        "#si encontramos un divisor cortamos\n",
        "\n",
        "\n",
        "N = int(input(\"Ingrese un numero entero: \"))\n",
        "esPrimo = True\n",
        "divisor = 2\n",
        "while esPrimo == True and divisor < N:\n",
        "  esPrimo = not esDivisible(N, divisor)\n",
        "  divisor += 1\n",
        "print(esPrimo)"
      ]
    }
  ],
  "metadata": {
    "colab": {
      "provenance": []
    },
    "kernelspec": {
      "display_name": "Python 3",
      "name": "python3"
    }
  },
  "nbformat": 4,
  "nbformat_minor": 0
}