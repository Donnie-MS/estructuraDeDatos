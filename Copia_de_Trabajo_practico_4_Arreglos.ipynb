{
  "cells": [
    {
      "cell_type": "markdown",
      "metadata": {
        "id": "42630xxYD0gZ"
      },
      "source": [
        "# ![alt text](https://upload.wikimedia.org/wikipedia/commons/thumb/c/c3/Python-logo-notext.svg/50px-Python-logo-notext.svg.png) **Trabajo Práctico 4: Arreglos uni y multidimensionales** ![alt text](https://upload.wikimedia.org/wikipedia/commons/thumb/c/c3/Python-logo-notext.svg/50px-Python-logo-notext.svg.png)\n",
        "\n",
        "En este trabajo práctico, vamos a trabajar con arreglos uni y multidimensionales en Python. Recuerden crear una copia de este archivo en su ***Google Drive*** para tener permisos de edición.\n",
        "\n",
        "### Martin: **martin.pustilnik@unahur.edu.ar** ###"
      ]
    },
    {
      "cell_type": "markdown",
      "source": [
        "## **Vectores**"
      ],
      "metadata": {
        "id": "qofK30OIX86e"
      }
    },
    {
      "cell_type": "markdown",
      "metadata": {
        "id": "5GocRN5IuHrr"
      },
      "source": [
        "### **Ejercicio 1**\n",
        "\n",
        "Escribir una función que recibe un numero entero N y le pide al usuario que ingrese N numeros. Al final, el programa debe retornar un vector contiendo los números que fueron ingresados. Tambien debe imprimir por pantalla la suma total de los valores y el promedio. Se deben hacer funciones para resolver el promedio y la suma total."
      ]
    },
    {
      "cell_type": "code",
      "execution_count": null,
      "metadata": {
        "id": "sJuWgqpe8Sjx",
        "colab": {
          "base_uri": "https://localhost:8080/"
        },
        "outputId": "4835c08e-671b-4e51-aa86-3a3943b98c0c"
      },
      "outputs": [
        {
          "output_type": "stream",
          "name": "stdout",
          "text": [
            "Ingrese el tamaño del arreglo: 3\n",
            "Ingrese el valor del arreglo: 10\n",
            "Ingrese el valor del arreglo: 20\n",
            "Ingrese el valor del arreglo: 40\n",
            "[10. 20. 40.]\n",
            "['' '' ''] ['' '' '']\n"
          ]
        }
      ],
      "source": [
        "import numpy as np\n",
        "\n",
        "def ej():\n",
        "  tamaño = int(input(\"Ingrese el tamaño del arreglo: \"))\n",
        "  arreglo = np.zeros(tamaño)\n",
        "  for i in range(tamaño):\n",
        "    arreglo[i] = int(input(\"Ingrese el valor del arreglo: \"))\n",
        "  return arreglo\n",
        "\n",
        "a = ej()\n",
        "print(a)\n",
        "\n",
        "s1 = np.zeros(3,str)\n",
        "s2 = np.empty(3,str)\n",
        "print(s1, s2)"
      ]
    },
    {
      "cell_type": "markdown",
      "source": [
        "### **Ejercicio 2**\n",
        "\n",
        "Escribir una función que recibe un vector de strings y retorna otro con los mismos elementos del vector de entrada pero en orden inverso."
      ],
      "metadata": {
        "id": "i_1fkXYBkl2A"
      }
    },
    {
      "cell_type": "code",
      "source": [
        "\n",
        "# arr = ['a','b','c','d','e']\n",
        "\n",
        "def ej2bis(arr):\n",
        "  arr2 = np.zeros(len(arr),str)\n",
        "  for i in reversed(range(len(arr))):\n",
        "    print(len(arr)-i-1, i)\n",
        "    arr2[len(arr)-i-1] = arr[i]\n",
        "  return arr2\n",
        "\n",
        "def ej2(arr):\n",
        "  arr2 = np.zeros(len(arr),str)\n",
        "  # arr2 = ['','','','','']\n",
        "  for i in range(len(arr)):\n",
        "    print(i, len(arr)-i-1)\n",
        "    arr2[i] = arr[len(arr)-i-1]\n",
        "  return arr2\n",
        "\n",
        "arr1 = np.array(['n','b','c','d','e'])\n",
        "print(ej2(arr1))"
      ],
      "metadata": {
        "id": "AzSCUv54kmLn",
        "colab": {
          "base_uri": "https://localhost:8080/"
        },
        "outputId": "7335eae8-e2ee-46b8-eede-dc6b6475464f"
      },
      "execution_count": null,
      "outputs": [
        {
          "output_type": "stream",
          "name": "stdout",
          "text": [
            "0 4\n",
            "1 3\n",
            "2 2\n",
            "3 1\n",
            "4 0\n",
            "['e' 'd' 'c' 'b' 'n']\n"
          ]
        }
      ]
    },
    {
      "cell_type": "code",
      "source": [
        "print(np.zeros(5,int))\n",
        "print(np.zeros(5,str))\n",
        "print(np.empty(5))\n",
        "print(np.random.rand(5))\n"
      ],
      "metadata": {
        "colab": {
          "base_uri": "https://localhost:8080/"
        },
        "id": "Ut3yJJhwc-0M",
        "outputId": "e981f76d-009b-4f12-cec7-f508e721a083"
      },
      "execution_count": null,
      "outputs": [
        {
          "output_type": "stream",
          "name": "stdout",
          "text": [
            "[0 0 0 0 0]\n",
            "['' '' '' '' '']\n",
            "[0. 0. 0. 0. 0.]\n",
            "[0.43162594 0.77418254 0.64634636 0.99072704 0.40345581]\n"
          ]
        }
      ]
    },
    {
      "cell_type": "markdown",
      "source": [
        "### **Ejercicio 3**\n",
        "\n",
        "Escribir la función sumaDeVectores que recibe dos vectores de enteros del mismo tamaño y retorna otro con la suma de ambos. La suma de vectores se realiza componente a componente, segun la siguiente forma:\n",
        "\n",
        "v<sub>1</sub> = [ v<sub>11</sub> , v<sub>12</sub> , v<sub>13</sub> , ... , v<sub>1N</sub> ]\n",
        "\n",
        "v<sub>2</sub> = [ v<sub>21</sub> , v<sub>22</sub> , v<sub>23</sub> , ... , v<sub>2N</sub> ]\n",
        "\n",
        "v<sub>1</sub> + v<sub>2</sub> = [ v<sub>11</sub> + v<sub>21</sub> , v<sub>12</sub> + v<sub>22</sub> , v<sub>13</sub> + v<sub>23</sub> , ... , v<sub>1N</sub> + v<sub>2N</sub> ]"
      ],
      "metadata": {
        "id": "WAxORLS4lsQn"
      }
    },
    {
      "cell_type": "code",
      "source": [
        "import numpy as np\n",
        "\n",
        "# PRE: len(arr1) == len(arr2)\n",
        "def sumaVec(arr1: np.array,arr2: np.array) -> np.array:\n",
        "  if len(arr1) != len(arr2):\n",
        "    raise Exception(\"Los vectores deben tener la misma longitud\")\n",
        "\n",
        "  arr3= np.zeros(len(arr1), int)\n",
        "  for i in range(len(arr1)):\n",
        "    print(arr1[i], arr2[i])\n",
        "    arr3[i] = arr1[i] + arr2[i]\n",
        "  return arr3\n",
        "\n",
        "arr1 = np.array([1,2,3])\n",
        "arr2 = np.array([4,5,6])\n",
        "\n",
        "print(sumaVec(arr1, arr2))\n",
        "\n",
        "def sumaVec1(arr1, arr2) -> np.array:\n",
        "  arr3 = np.zeros(len(arr1),int)\n",
        "  for i in range(len(arr1)):\n",
        "    print(arr1[i], arr2[i])\n",
        "    arr3[i] = arr1[i] + arr2[i]\n",
        "  return arr3\n"
      ],
      "metadata": {
        "id": "tZRep8aplrwo",
        "colab": {
          "base_uri": "https://localhost:8080/"
        },
        "outputId": "6cf9731a-cb5e-478b-e792-c727b7be4324"
      },
      "execution_count": null,
      "outputs": [
        {
          "output_type": "stream",
          "name": "stdout",
          "text": [
            "1 4\n",
            "2 5\n",
            "3 6\n",
            "[5 7 9]\n"
          ]
        }
      ]
    },
    {
      "cell_type": "markdown",
      "metadata": {
        "id": "tWEeQ_jywHeu"
      },
      "source": [
        "### **Ejercicio 4**\n",
        "\n",
        "Escribir una función que recibe un vector y desplaza todos sus elementos una posición hacia la derecha: el primero pasa a ser el segundo, el segundo pasa a ser el tercero y así sucesivamente. El último pasa a ser el primero.\n",
        "\n",
        "Por ejemplo:\n",
        "\n",
        "v1 = [2, 4, 1, 5, 7, **9**]\n",
        "\n",
        "**desplazarADerecha(v1)**\n",
        "\n",
        "=> v1 = [**9**, 2, 4, 1, 5, 7]"
      ]
    },
    {
      "cell_type": "code",
      "execution_count": null,
      "metadata": {
        "id": "w6qrLd4-XwHB",
        "colab": {
          "base_uri": "https://localhost:8080/"
        },
        "outputId": "64479221-03c6-4e67-b053-6075cce2e6f5"
      },
      "outputs": [
        {
          "output_type": "stream",
          "name": "stdout",
          "text": [
            "[9 2 4 1 5 7]\n"
          ]
        }
      ],
      "source": [
        "\n",
        "# notar que es un procedimiento (no devuelve nada)\n",
        "# no obstante, modifica el vector.  Eso es asi porque el vector llega por\n",
        "# referencia\n",
        "# a la funcion le llega la posicion de \"comienzo\" de v1\n",
        "def desplazarADerecha(vector):\n",
        "  ultimoElemento = vector[len(vector)-1]\n",
        "  for i in reversed(range(len(vector)-1)):\n",
        "    siguientePosicion = i+1\n",
        "    vector[siguientePosicion] = vector[i]\n",
        "  vector[0] = ultimoElemento\n",
        "\n",
        "v1 = np.array([2, 4, 1, 5, 7, 9])\n",
        "desplazarADerecha(v1)\n",
        "print(v1)\n"
      ]
    },
    {
      "cell_type": "markdown",
      "metadata": {
        "id": "YCbHcOgzwRBE"
      },
      "source": [
        "### **Ejercicio 5**\n",
        "\n",
        "Desarrollar una función que inserte un elemento en una posición en un vector. Al insertar el elemento, se debe producir un desplazamiento a la derecha de todos los elementos en las posiciones siguientes, el último elemento se pierde.\n",
        "\n",
        "Por ejemplo:\n",
        "\n",
        "v1 = [2, 4, 1, 7, 6, 2]\n",
        "\n",
        "**insertar(v1, 5, 3)** #insertamos un 5 en la posición 3\n",
        "\n",
        "=> v1 = [2, 4, 1, **5**, 7, 6]"
      ]
    },
    {
      "cell_type": "code",
      "execution_count": null,
      "metadata": {
        "id": "rQEF6QpbX-r0",
        "colab": {
          "base_uri": "https://localhost:8080/"
        },
        "outputId": "952316c1-1c01-428b-e052-73a7094b5884"
      },
      "outputs": [
        {
          "output_type": "stream",
          "name": "stdout",
          "text": [
            "indice 5  valores  2 6\n",
            "[2 4 1 7 6 6]\n",
            "[ 2  4  1  7 50  6]\n"
          ]
        }
      ],
      "source": [
        "def insertar(vector, elemento, posicion):\n",
        "  #for i in reversed(range(posicion+1, len(vector))):\n",
        "\n",
        "  for i in reversed(range(posicion, len(vector)-1)):\n",
        "    print(\"indice \" + str(i+1), \" valores \" ,vector[i+1], vector[i])\n",
        "    vector[i+1] = vector[i]\n",
        "  print(vector)\n",
        "  vector[posicion] = elemento\n",
        "\n",
        "#              0  1  2  3  4   5\n",
        "v1 = np.array([2, 4, 1, 7, 6, 2])\n",
        "insertar(v1, 50, 4)\n",
        "print(v1)\n"
      ]
    },
    {
      "cell_type": "markdown",
      "metadata": {
        "id": "5dRIpezdwX5y"
      },
      "source": [
        "### **Ejercicio 6**\n",
        "\n",
        "Escribir una función que elimine el elemento que ocupa una determinada posición de un vector. Al eliminar, los elementos a la derecha del eliminado, deben desplazarse a la izquierda un lugar y agregar un cero en la última posición.\n",
        "\n",
        "Por ejemplo:\n",
        "\n",
        "v1 = [4, 3, **5**, 8, 6, 7]\n",
        "\n",
        "**eliminar(v1, 2)** #eliminamos el elemento de la posicion 2\n",
        "\n",
        "=> v1 = [4, 3, **8, 6, 7, 0**]"
      ]
    },
    {
      "cell_type": "code",
      "execution_count": null,
      "metadata": {
        "id": "UvYJknRvYTla",
        "colab": {
          "base_uri": "https://localhost:8080/"
        },
        "outputId": "c97d4280-12cc-4cf6-8b7f-010d52eaf039"
      },
      "outputs": [
        {
          "output_type": "stream",
          "name": "stdout",
          "text": [
            "[1 2 4 5 0]\n",
            "[1 2 4 5 0]\n"
          ]
        }
      ],
      "source": [
        "# PRE: pos < len(arr)\n",
        "def eliminarElemento(arr, pos):\n",
        "  for i in range(pos,len(arr)-1):\n",
        "    arr[i] = arr[i+1]\n",
        "  # -1 es la posicion final, es decir, len(arr)-1\n",
        "  arr[len(arr)-1] = 0\n",
        "  arr[-1] = 0\n",
        "\n",
        "arr2 = np.array([1,2,3,4,5])\n",
        "eleiminarElemento(arr2,2)\n",
        "# [1,2,4,5,0]\n",
        "print(arr2)\n",
        "\n",
        "def eliminar(vector, posicion):\n",
        "  for i in range(posicion, len(vector)-1):\n",
        "    vector[i] = vector[i+1]\n",
        "  vector[len(vector)-1] = 0\n",
        "\n",
        "v1 = np.array([1,2,3,4,5])\n",
        "eliminar(v1,2)\n",
        "print(v1)\n",
        "\n",
        "\n",
        "\n",
        "\n"
      ]
    },
    {
      "cell_type": "markdown",
      "metadata": {
        "id": "RgHK2L_fwbaM"
      },
      "source": [
        "### **Ejercicio 7**\n",
        "\n",
        "Escribir una función que elimine todas las apariciones de un determinado elemento de un vector. Al eliminar se deben insertar tantos ceros al final como elementos se eliminaron.\n",
        "\n",
        "Por ejemplo:\n",
        "\n",
        "arr1 = [4, 3, 5, 8, 6, 5, 7, 5]\n",
        "\n",
        "**eliminarApariciones(arr1, 5)** #eliminamos todos los 5 del arreglo\n",
        "\n",
        "=> arr1 = [4, 3, 8, 6, 7, **0, 0, 0**]"
      ]
    },
    {
      "cell_type": "code",
      "execution_count": null,
      "metadata": {
        "id": "o6twFUebYsO3",
        "colab": {
          "base_uri": "https://localhost:8080/"
        },
        "outputId": "8a3a9400-c6d8-4798-f24f-043575fde262"
      },
      "outputs": [
        {
          "output_type": "stream",
          "name": "stdout",
          "text": [
            "[4 3 8 6 7 0 0 0]\n",
            "[4 3 6 7 0 0 0 0]\n"
          ]
        }
      ],
      "source": [
        "\n",
        "def eliminarApariciones(arr, elem):\n",
        "  i = 0\n",
        "  while (i < len(arr)):\n",
        "    if arr[i] == elem:\n",
        "      eliminarElemento(arr, i)\n",
        "    else:\n",
        "      i = i + 1\n",
        "\n",
        "arr = np.array([4, 3, 5, 8, 6, 5, 7, 5])\n",
        "arr2 = np.array([4, 3, 5, 5, 6, 5, 7, 5])\n",
        "eliminarApariciones(arr, 5)\n",
        "eliminarApariciones(arr2, 5)\n",
        "print(arr)\n",
        "print(arr2)"
      ]
    },
    {
      "cell_type": "markdown",
      "metadata": {
        "id": "FkDEDnGiuhg4"
      },
      "source": [
        "### **Ejercicio 8**\n",
        "\n",
        "Escribir un procedimiento que reciben un vector y:\n",
        "- Imprime un subvector con los dos primeros elementos.\n",
        "- Imprime un subvector con los tres últimos elementos.\n",
        "- Imprime un subvector con los elementos desde la posiciones 2 hasta la 5\n",
        "- Imprime un subvector con los elementos alternados cada dos. Por ej.: v1 = [2 , 1 , 4 , 5 , 2 , 7 , 9] debería imprimir [2 , 4 , 2 , 9]\n",
        "\n",
        "Nota: Se debe utilizar la notacion **vector [ pos<sub>inicio</sub> : pos<sub>fin</sub> ]**"
      ]
    },
    {
      "cell_type": "code",
      "source": [
        "\n",
        "arr1 = np.array([2, 1, 4, 5, 2, 7, 9])\n",
        "arr7 = np.array([2, 1, 4, 5, 2, 7, 9])\n",
        "arr2 = arr1[0:2]\n",
        "print(arr2)\n",
        "arr3 = arr1[-3:]\n",
        "print(arr3)\n",
        "arr4 = arr1[2:6]\n",
        "print(arr4)\n",
        "arr5 = arr1[::2]\n",
        "print(arr5)\n",
        "arr6 = arr1[0:len(arr1):2]\n",
        "print(arr6)\n",
        "# [2, 1, 4, 5, 2, 7, 9]\n",
        "#  arr1[1:] == [1, 4, 5, 2, 7, 9]\n",
        "\n",
        "#\n",
        "print(arr7)\n",
        "# todo el arreglo menos el primer elemento\n",
        "print(\"1: todo menos el 1er elemento\", arr1[1:])"
      ],
      "metadata": {
        "id": "r-X5N4RIVR0j",
        "colab": {
          "base_uri": "https://localhost:8080/"
        },
        "outputId": "07f5770a-b20b-405a-e8f8-2919d58cb516"
      },
      "execution_count": null,
      "outputs": [
        {
          "output_type": "stream",
          "name": "stdout",
          "text": [
            "[2 1]\n",
            "[2 7 9]\n",
            "[4 5 2 7]\n",
            "[2 4 2 9]\n",
            "[2 4 2 9]\n",
            "[2 1 4 5 2 7 9]\n",
            "1: todo menos el 1er elemento [1 4 5 2 7 9]\n"
          ]
        }
      ]
    },
    {
      "cell_type": "code",
      "source": [
        "import numpy as np\n",
        "\n",
        "arr1 = np.array([2, 1, 4, 5, 2, 7, 9])\n",
        "arr2 = arr1[0:2]  # de la 0 a la 1\n",
        "print(arr2)\n",
        "arr6 = arr1[:len(arr1):2] # tomando cada dos elementos. los impares\n",
        "print(arr6)\n",
        "arr5 = arr1[::2]\n",
        "print(arr5)\n",
        "\n",
        "arr7 = arr1[1:] # todo el arreglo menos el primer elemento\n",
        "print(arr7)\n",
        "arr7 = arr1[:1] # todo el arreglo menos el primer elemento\n",
        "print(arr7)"
      ],
      "metadata": {
        "colab": {
          "base_uri": "https://localhost:8080/"
        },
        "id": "biFqtJkw8wG9",
        "outputId": "ec7c6f45-7fdc-4af8-ae61-4025fa97eb37"
      },
      "execution_count": null,
      "outputs": [
        {
          "output_type": "stream",
          "name": "stdout",
          "text": [
            "[2 1]\n",
            "[2 4 2 9]\n",
            "[2 4 2 9]\n",
            "[1 4 5 2 7 9]\n",
            "[2]\n"
          ]
        }
      ]
    },
    {
      "cell_type": "markdown",
      "metadata": {
        "id": "lui2wi2SuhhL"
      },
      "source": [
        "### **Ejercicio 9**\n",
        "\n",
        "Escribir una función **recursiva** que reciba un vector como parámetro y retorne la suma de todos sus elementos.\n",
        "\n",
        "1_ recursion sobre el tamaño del arreglo.\n",
        "\"Achicamos\" el arreglo en cada llamada\n",
        "\n",
        "2_ con un indice como parametro\n",
        "Achicamos el indice en cada llamada\n"
      ]
    },
    {
      "cell_type": "code",
      "execution_count": null,
      "metadata": {
        "id": "un-l5xRLuhhL",
        "colab": {
          "base_uri": "https://localhost:8080/"
        },
        "outputId": "46f434ed-12ce-48b4-8d50-20f22475c07d"
      },
      "outputs": [
        {
          "output_type": "stream",
          "name": "stdout",
          "text": [
            "30\n",
            "30\n"
          ]
        }
      ],
      "source": [
        "def sumaAR(arr):\n",
        "  if len(arr) == 1:\n",
        "    ret = arr[0]\n",
        "  else:\n",
        "    print(arr[1:])\n",
        "    # todo el arreglo menos el 1er elemento\n",
        "    ret = arr[0] + sumaAR(arr[1:])\n",
        "  return ret\n",
        "\n",
        "#sumarAR([2, 1, 4, 5, 2, 7, 9])\n",
        "#2 + (sumarAR([1, 4, 5, 2, 7, 9]))\n",
        "#2 + (1 + (sumarAR([4, 5, 2, 7, 9])))\n",
        "#...\n",
        "#2 + 1 + (4 + (5 + (2 + (7 + sumaAR([9])))))\n",
        "#2 + 1 + (4 + (5 + (2 + (7 +  9))))\n",
        "# notar que sumaAR([9]) es 9\n",
        "\n",
        "def sumaARb(arr):\n",
        "  if len(arr) == 1:\n",
        "    ret = arr[0]\n",
        "  else:\n",
        "    # todo el arreglo menos el ultimo elemento\n",
        "    ret = arr[-1] + sumaARb(arr[:-1])\n",
        "  return ret\n",
        "\n",
        "\n",
        "def sumaAR2(indice, arr):\n",
        "  if indice == 0:\n",
        "    ret = arr[indice]\n",
        "  else:\n",
        "    # print(indice)\n",
        "    ret = arr[indice] + sumaAR2(indice-1, arr)\n",
        "  return ret\n",
        "\n",
        "# [2, 1, 4]\n",
        "\n",
        "# [4] + sumarAR2([2, 1])\n",
        "# [4] + [2] + sumarAR2([2])\n",
        "# [4] + [2] + [2]\n",
        "\n",
        "arr1 = np.array([2, 1, 4, 5, 2, 7, 9])\n",
        "print(sumaARb(arr1))\n",
        "print(sumaAR2(len(arr1)-1,arr1))\n"
      ]
    },
    {
      "cell_type": "markdown",
      "metadata": {
        "id": "AXeJRrL1jmaY"
      },
      "source": [
        "### **Ejercicio 10**\n",
        "\n",
        "Escribir una función que implemente de forma **recursiva** el algoritmo de **búsqueda binaria** sobre un vector.\n",
        "\n",
        "https://es.khanacademy.org/computing/computer-science/algorithms/binary-search/a/binary-search\n",
        "\n",
        "Consiste en buscar un elemento en un arreglo **ordenado**.\n",
        "Tipicamente se puede hacer de manera recursiva, aprovechando en orden, es decir, sin recorrer todos los elementos del arrego."
      ]
    },
    {
      "cell_type": "code",
      "execution_count": null,
      "metadata": {
        "id": "gCr_ilY9kKa3",
        "colab": {
          "base_uri": "https://localhost:8080/"
        },
        "outputId": "9d593d54-d192-4472-fef5-1ede433de1c8"
      },
      "outputs": [
        {
          "output_type": "stream",
          "name": "stdout",
          "text": [
            "6\n",
            "-1\n"
          ]
        }
      ],
      "source": [
        "\n",
        "#                 0   1  2  3   4  5   6\n",
        "arr = np.array([-10,  1, 4, 5, 20, 70, 90])\n",
        "#                           x\n",
        "\n",
        "# Queremos devolver la posicion de algun elemento \"elem\", en este caso 90\n",
        "# me voy a parar en el medio i.e  indice = len(arr) / 2, en este caso 3\n",
        "# preguntamos si elem esta a la izquierda, a la derecha o es arr[3][3]\n",
        "# Si elem == arr[3] devuelvo 3\n",
        "# como 90 > arr[3] entonces, como esta ordenado, necesaramiente\n",
        "# tiene que star a la derecha\n",
        "# recalculo el inde, pero, entre 3 y 6. indice (4 + 6) / 2 = 5\n",
        "# ...\n",
        "# recalculo el inde, pero, entre 6 y 6. indice (6 + 6) / 2 = 6\n",
        "# ahi lo encuentra. y tambien puede pasar que no este\n",
        "# cuando el \"desde\"  == \"hasta\" pero no es el elem.\n",
        "\n",
        "#        0,1,2,3,4 ,5  6\n",
        "lista = [1,2,5,7,11,50,13]\n",
        "# no necesariamente tiene que estar ordenado\n",
        "def buscar(lista, elem):\n",
        "  indice = -1\n",
        "  for i in range(len(lista)):  # de 0 hasta 6\n",
        "    #print(i,lista[i])\n",
        "    if lista[i] == elem:\n",
        "      indice = i\n",
        "  return indice\n",
        "\n",
        "print(buscar(lista, 13))\n",
        "print(buscar(lista, 61))\n",
        "\n",
        "\n",
        "\n"
      ]
    },
    {
      "cell_type": "code",
      "source": [
        "from copy import deepcopy\n",
        "\n",
        "arr = [-10, 1, 2 , 3, 4, 5, 6 , 7 ,9 ]\n",
        "\n",
        "def busquedaL(lista:list , numeroALocalizar:int)->int:\n",
        "  lista_ = deepcopy(lista)\n",
        "  if lista_[-1] == numeroALocalizar:\n",
        "    posicion = len(lista_) - 1\n",
        "  else:\n",
        "    lista_.pop(-1)\n",
        "    posicion = busquedaL(lista_ , numeroALocalizar)\n",
        "\n",
        "  return posicion\n",
        "\n",
        "print(busquedaL(arr, 1))\n"
      ],
      "metadata": {
        "colab": {
          "base_uri": "https://localhost:8080/"
        },
        "id": "zs5PULOVFyfH",
        "outputId": "601b20af-23a1-4dac-e1b9-e0c600ff9dac"
      },
      "execution_count": null,
      "outputs": [
        {
          "output_type": "stream",
          "name": "stdout",
          "text": [
            "1\n"
          ]
        }
      ]
    },
    {
      "cell_type": "markdown",
      "source": [
        "La busqueda binaria consiste en buscar un elemento en un arreglo ordenado. Va aprovechar el \"orden\" del arreglo para buscar mas rapido que en una busqueda lineal.\n",
        " 0 1 2 3  4 5  6   7  8  9 10 11\n",
        "[2,4,7,8,11,15,18,22,33,34,36,37]\n",
        "\n",
        "buscamos el 37 sin saber si esta o no.  \n",
        "\n",
        "Una estrategia es hacer una busqueda lineal (elemento a elemento).\n",
        "Otra estrategia podria ser comenzar en \"la mitad\". Es decir en el indice  len(arr)/2, en este caso : 5\n",
        "\n"
      ],
      "metadata": {
        "id": "JqnaFmtpZSeW"
      }
    },
    {
      "cell_type": "code",
      "source": [
        "#devuelvo el índice dentro de lista o -1\n",
        "#PRE: lista debe estar ordenada, j=len(lista)-1\n",
        "# i,j es el desde,hasta del rango de la lista que vamos a mirar.\n",
        "def busquedaBinaria(lista,elem,i,j):\n",
        "  print(lista[i],lista[j],i,j)\n",
        "  if i>j:\n",
        "    return -1\n",
        "  medio = (i+j) // 2\n",
        "  if lista[medio] == elem:\n",
        "    return medio\n",
        "  if lista[medio] < elem:\n",
        "    # me voy a la derecha\n",
        "    # print(lista[medio+1],lista[j],medio+1,j)\n",
        "    return busquedaBinaria(lista,elem,medio+1,j)\n",
        "  if lista[medio] > elem:\n",
        "    # me voy a la izquierda\n",
        "    # print(lista[i], lista[medio-1], i,medio-1)\n",
        "    return busquedaBinaria(lista,elem,i,medio-1)\n",
        "\n",
        "#        0 1 2 3 4  5                 9\n",
        "lista = [1,2,5,7,11,13, 15, 18, 22 , 32, 44, 55, 66, 67, 68, 100]\n",
        "\n",
        "# buscamos el 13, tiene indice 5\n",
        "print(busquedaBinaria(lista,13,0,len(lista)-1))\n",
        "# buscamos el 20, retornamos - 1\n",
        "# print(busquedaBinaria(lista,20,0,len(lista)-1))\n",
        "# buscamos el 100\n",
        "# print(busquedaBinaria(lista,32,0,len(lista)-1))"
      ],
      "metadata": {
        "colab": {
          "base_uri": "https://localhost:8080/"
        },
        "id": "45myy5niGoMU",
        "outputId": "b3addf51-26e3-4db6-d64e-9c9865a8150c"
      },
      "execution_count": null,
      "outputs": [
        {
          "output_type": "stream",
          "name": "stdout",
          "text": [
            "1 100 0 15\n",
            "1 15 0 6\n",
            "11 15 4 6\n",
            "5\n"
          ]
        }
      ]
    },
    {
      "cell_type": "markdown",
      "metadata": {
        "id": "bjsMScHVuhhL"
      },
      "source": [
        "### **Ejercicio 11**\n",
        "\n",
        "Escribir una función **recursiva** que retorna *True* si una cadena de caracteres es un palíndromo y *False* en caso contrario.\n",
        "\n",
        "Nota: Palíndromo es la forma elegante de \"capicua\". Ejemplo: nuequen es capucua."
      ]
    },
    {
      "cell_type": "code",
      "source": [],
      "metadata": {
        "id": "Rt0rs7fhyAlB"
      },
      "execution_count": null,
      "outputs": []
    },
    {
      "cell_type": "code",
      "source": [
        "\n",
        "def esPalindromo(arr):\n",
        "  if len(arr) < 1:\n",
        "    ret = True\n",
        "  else:\n",
        "    if arr[0] == arr[-1]:\n",
        "      print(arr[0], arr[-1])\n",
        "      # le quitamos el 1er y ultimo elemento\n",
        "      ret = esPalindromo(arr[1:-1])\n",
        "    else:\n",
        "      ret = False\n",
        "  return ret\n",
        "\n",
        "\n",
        "print(esPalindromo(['s','a','c','a','s']))\n",
        "print(esPalindromo(['a','c','c','a']))\n",
        "print(esPalindromo(['a','c','s']))\n",
        "\n",
        "# \"n\" == \"n\" and esPalindromo(euque) and \"e\" == \"e\" and esPalindromo(uqu)\n",
        "# \"u\" and \"u\" and esPalindromo(q)\n"
      ],
      "metadata": {
        "id": "bKfYdZkmVZVK",
        "colab": {
          "base_uri": "https://localhost:8080/"
        },
        "outputId": "12429efb-3b10-48f4-9ca3-ac7e4690d4c8"
      },
      "execution_count": null,
      "outputs": [
        {
          "output_type": "stream",
          "name": "stdout",
          "text": [
            "s s\n",
            "a a\n",
            "c c\n",
            "True\n",
            "a a\n",
            "c c\n",
            "True\n",
            "False\n"
          ]
        }
      ]
    },
    {
      "cell_type": "markdown",
      "source": [
        "## **Matrices**"
      ],
      "metadata": {
        "id": "mzMe5_5TVI94"
      }
    },
    {
      "cell_type": "markdown",
      "metadata": {
        "id": "yK01wbveuzUM"
      },
      "source": [
        "### **Ejercicio 12**\n",
        "\n",
        "Escribir una función que recibe las dimensiones y retorna una matriz rellena de la siguiente forma: En la posición ( n , m ) debe contener n + m.\n",
        "\n",
        "Por ejemplo:\n",
        "\n",
        "mat1 = rellenaMatriz(4,3)\n",
        "\n",
        "=> mat1 =\n",
        "\n",
        "| <!--   --> |Col 0|Col 1|Col 2|\n",
        "|------------|:---:|:---:|:---:|\n",
        "| **Fila 0** |  0  |  1  |  2  |\n",
        "| **Fila 1** |  1  |  2  |  3  |\n",
        "| **Fila 2** |  2  |  3  |  4  |\n",
        "| **Fila 3** |  3  |  4  |  5  |"
      ]
    },
    {
      "cell_type": "code",
      "execution_count": null,
      "metadata": {
        "id": "UW1iXcs9aULl",
        "colab": {
          "base_uri": "https://localhost:8080/"
        },
        "outputId": "0be9e0f6-7f06-4de5-d48c-0c23fe544281"
      },
      "outputs": [
        {
          "output_type": "stream",
          "name": "stdout",
          "text": [
            "4 3\n",
            "[[0 1 2]\n",
            " [1 2 3]\n",
            " [2 3 4]\n",
            " [3 4 5]]\n"
          ]
        }
      ],
      "source": [
        "import numpy as np\n",
        "\n",
        "def imprimir(mat):\n",
        "  for i in range(len(mat)):\n",
        "    for j in range(len(mat[i])):\n",
        "      print(mat[i][j], end=\" \")\n",
        "    print(\" \")\n",
        "\n",
        "mat2 = np.zeros((4,3),int)\n",
        "\n",
        "def rellenaMatriz(n:int , m:int)->np.matrix:\n",
        "  resultado = np.zeros((n , m), int)\n",
        "  # para las filas\n",
        "  for i in range(n):\n",
        "    # para las columnas\n",
        "    for j in range(m):\n",
        "      print(\"fila \" + str(i)+ \" colu \" +str(j) + \" \" + str(i+j))\n",
        "      resultado[i][j] = i+j\n",
        "\n",
        "  return resultado\n",
        "\n",
        "def rellenarMatriz2(n:int, m:int)->np.matrix:\n",
        "  resultado = np.zeros((n,m),int)\n",
        "  (n,m) = resultado.shape\n",
        "  print(n,m)\n",
        "  for i in range(n):\n",
        "    for j in range(m):\n",
        "      resultado[i][j] = i+j\n",
        "  return resultado\n",
        "\n",
        "mat = rellenarMatriz2(4,3)\n",
        "print(mat)"
      ]
    },
    {
      "cell_type": "markdown",
      "metadata": {
        "id": "g96hWdmiaUmA"
      },
      "source": [
        "### **Ejercicio 13**\n",
        "\n",
        "Desarrollar una función que recibe una matriz cuadrada de números reales (N x N) por parámetro y calcula la suma de los elementos que están por encima de la diagonal principal (excluyendo la diagonal).\n",
        "\n",
        "En el ejemplo de la imagen, la función deberia retornar: *b + c + f*\n",
        "\n",
        "![texto alternativo](https://economipedia.com/wp-content/uploads/Captura-de-Pantalla-2019-07-29-a-les-13.18.05-1.png)"
      ]
    },
    {
      "cell_type": "code",
      "source": [
        "import numpy as np\n",
        "\n",
        "m1 = np.random.randint(10, size=(3, 3))\n",
        "\n",
        "print(m1)\n",
        "# Espera una matriz cuadrada\n",
        "def sumaSuperior(mat) -> int:\n",
        "    sum = 0\n",
        "    for i in range(len(mat)):\n",
        "        for j in range(len(mat[i])):\n",
        "            if i < j :\n",
        "                sum += mat[i][j]\n",
        "    return sum\n",
        "\n",
        "print(sumaSuperior(m1))\n",
        "\n",
        "# 012\n",
        "# ---\n",
        "# 012|0\n",
        "# 345|1\n",
        "# 678|2\n"
      ],
      "metadata": {
        "id": "jqCMk3atW8ov",
        "colab": {
          "base_uri": "https://localhost:8080/"
        },
        "outputId": "00d5d003-ee44-4f03-c174-6fb5e5788e89"
      },
      "execution_count": null,
      "outputs": [
        {
          "output_type": "stream",
          "name": "stdout",
          "text": [
            "[[4 5 9]\n",
            " [1 1 2]\n",
            " [9 9 3]]\n",
            "16\n"
          ]
        }
      ]
    },
    {
      "cell_type": "markdown",
      "metadata": {
        "id": "Zezxj9z1u8rT"
      },
      "source": [
        "### **Ejercicio 14**\n",
        "\n",
        "Escribir una función que retorna *True* si una matriz cuadrada es matriz diagonal y *False* en caso contrario.\n",
        "\n",
        "Una matriz cuadrada diagonal es una matriz que tiene ceros en todos sus elementos, menos en la diagonal principal (No importan los elementos de la diagonal principal, pueden ser cero o no).\n",
        "\n",
        "**Si i, j son los índices de las filas y columnas de M**\n",
        "\n",
        "**=> Una matriz M es diagonal si:**\n",
        "\n",
        "**M [ i , j ] == 0 para todo i != j**\n",
        "\n",
        "Matriz diagonal de 4 x 4:\n",
        "\n",
        "| <!--   --> |Col 0|Col 1|Col 2|Col 3|\n",
        "|------------|:---:|:---:|:---:|:---:|\n",
        "| **Fila 0** |  0  |  0  |  0  |  0  |\n",
        "| **Fila 1** |  0  |  2  |  0  |  0  |\n",
        "| **Fila 2** |  0  |  0  |  4  |  0  |\n",
        "| **Fila 3** |  0  |  0  |  0  |  0  |"
      ]
    },
    {
      "cell_type": "code",
      "execution_count": null,
      "metadata": {
        "id": "ehZJVkc_cWIg",
        "colab": {
          "base_uri": "https://localhost:8080/"
        },
        "outputId": "cb1ecf99-ad46-4065-9775-25f46ba30567"
      },
      "outputs": [
        {
          "output_type": "stream",
          "name": "stdout",
          "text": [
            "False\n",
            "True\n"
          ]
        }
      ],
      "source": [
        "m = np.array([[2,1,0,5],[1,2,9,7],[0,9,0,8],[5,7,8,4]])\n",
        "m2 = np.array([[0,0,0,0],[0,20,0,0],[0,0,30,0],[0,0,0,0]])\n",
        "\n",
        "def esDiagonal(matriz:np.array)->bool:\n",
        "  salida = True\n",
        "  # \"(x,y)\" es una tupla, y se llenan las dos variables a la vez\n",
        "  (cFilas, cColumas) = matriz.shape\n",
        "  for fila in range(cFilas):\n",
        "    for columna in range( cColumas):\n",
        "      if columna != fila and matriz[fila][columna] != 0:\n",
        "        salida = False\n",
        "  return salida\n",
        "\n",
        "print(esDiagonal(m))\n",
        "print(esDiagonal(m2))\n"
      ]
    },
    {
      "cell_type": "markdown",
      "metadata": {
        "id": "PQwVCnqUvCAX"
      },
      "source": [
        "### **Ejercicio 15**\n",
        "\n",
        "Escribir una función que retorna *True* si una matriz cuadrada de enteros es simétrica y *False* en caso contrario.\n",
        "\n",
        "Una matriz simétrica es como la de la imagen (no importan los elementos de la diagonal principal):\n",
        "\n",
        "![texto alternativo](https://economipedia.com/wp-content/uploads/Captura-de-Pantalla-2019-09-23-a-les-15.58.25.png)\n",
        "\n",
        "Es decir:\n",
        "\n",
        "**Si i, j son los índices de las filas y columnas de M**\n",
        "\n",
        "**=> Una matriz M es simétrica si:**\n",
        "\n",
        "**M [ i , j ] == M[ j, i ] para todo i != j**\n",
        "\n",
        "Matriz simétrica de 4 x 4:\n",
        "\n",
        "| <!--   --> |Col 0|Col 1|Col 2|Col 3|\n",
        "|------------|:---:|:---:|:---:|:---:|\n",
        "| **Fila 0** |  2  |  1  |  0  |  5  |\n",
        "| **Fila 1** |  1  |  2  |  9  |  7  |\n",
        "| **Fila 2** |  0  |  9  |  0  |  8  |\n",
        "| **Fila 3** |  5  |  7  |  8  |  4  |"
      ]
    },
    {
      "cell_type": "code",
      "execution_count": null,
      "metadata": {
        "id": "3SA7bN6ldIwQ",
        "colab": {
          "base_uri": "https://localhost:8080/"
        },
        "outputId": "be06fff6-e05f-4c87-cc7c-2477f353d1cc"
      },
      "outputs": [
        {
          "output_type": "stream",
          "name": "stdout",
          "text": [
            "[[2 1 0 5]\n",
            " [1 2 9 7]\n",
            " [0 9 0 8]\n",
            " [5 7 8 4]]\n",
            "True\n",
            "False\n"
          ]
        }
      ],
      "source": [
        "\n",
        "m1 = np.array([[2,1,0,5],[1,2,9,7],[0,9,0,8],[5,7,8,4]])\n",
        "m2 = np.array([[2,10,0,5],[1,2,9,7],[0,9,0,8],[5,7,8,4]])\n",
        "\n",
        "def esSimetricaV2(matriz:np.array)->bool:\n",
        "  salida = True\n",
        "  for fila in range(len(matriz)):\n",
        "    for columna in range(len(matriz[fila])):\n",
        "      # asi preguntamos \"la mitad de las veces\"\n",
        "      if fila > columna:\n",
        "        if matriz[fila][columna] != matriz[columna][fila]:\n",
        "          salida = False\n",
        "  return salida\n",
        "\n",
        "print(m1)\n",
        "print(esSimetricaV2(m1))\n",
        "print(esSimetricaV2(m2))\n",
        "\n"
      ]
    },
    {
      "cell_type": "markdown",
      "metadata": {
        "id": "_aVYxMX-vG7r"
      },
      "source": [
        "### **Ejercicio 16**\n",
        "\n",
        "Escribir una función **recursiva**, que calcule la suma de los elementos de la diagonal principal de una matriz.\n",
        "\n",
        "Nota: La suma de los elementos de la diagonal principal de una matriz se llama \"traza de la matriz\".\n",
        "\n",
        "Por ejemplo\n",
        "\n",
        "Si mat1 =\n",
        "\n",
        "| <!--   --> |Col 0|Col 1|Col 2|Col 3|\n",
        "|------------|:---:|:---:|:---:|:---:|\n",
        "| **Fila 0** |  2  |  1  |  0  |  5  |\n",
        "| **Fila 1** |  1  |  2  |  9  |  7  |\n",
        "| **Fila 2** |  0  |  9  |  0  |  8  |\n",
        "| **Fila 3** |  5  |  7  |  8  |  4  |\n",
        "\n",
        "=> **traza(mat1) = 2 + 2 + 0 + 4**"
      ]
    },
    {
      "cell_type": "code",
      "execution_count": null,
      "metadata": {
        "id": "jSNCfDr_eEgH",
        "colab": {
          "base_uri": "https://localhost:8080/"
        },
        "outputId": "8a929f56-3f69-431c-b62d-c99b99f515df"
      },
      "outputs": [
        {
          "output_type": "stream",
          "name": "stdout",
          "text": [
            "[[2 1 0 5 3]\n",
            " [1 2 9 7 3]\n",
            " [0 9 0 8 3]\n",
            " [5 7 8 4 3]]\n",
            "4 3 3\n",
            "0 2 2\n",
            "2 1 1\n",
            "8\n"
          ]
        }
      ],
      "source": [
        "\n",
        "m1 = np.array([[2,1,0,5,3],[1,2,9,7,3],[0,9,0,8,3],[5,7,8,4,3]])\n",
        "\n",
        "# interfaz sugerida por el enunciado\n",
        "def traza(matriz:np.array):\n",
        "  return trazaAux(matriz, len(matriz)-1, len(matriz)-1)\n",
        "\n",
        "#funcion auxilar\n",
        "def trazaAux(matriz:np.array, fila:int, columna:int)->int:\n",
        "  if fila == 0 and columna == 0:\n",
        "    return matriz[fila][columna]\n",
        "  else:\n",
        "    print(matriz[fila][columna], fila, columna)\n",
        "    return matriz[fila][columna] + trazaAux(matriz, fila-1, columna-1)\n",
        "\n",
        "\n",
        "print(m1)\n",
        "print(traza(m1))\n"
      ]
    },
    {
      "cell_type": "markdown",
      "metadata": {
        "id": "H_Cn3f6Uvyif"
      },
      "source": [
        "### **Ejercicio 17**\n",
        "\n",
        "Una de las aplicaciones de matrices en programación es la representación y procesamiento de imágenes. Vamos a ver algunas cosas que se pueden hacer. Para esto primero tenemos que cargarnos una imagen en el colab y generar una matriz a partir de ella.\n",
        "\n",
        "- Descarguen el archivo \"felix.csv\" del siguiente link:\n",
        "https://drive.google.com/file/d/10Du9ECx7Cz-aHXQpYaWjkaAn6wKJSArn/view?usp=sharing\n",
        "- Suban el archivo \"felix.csv\" al \"colab\" para poder cargarlo con el programa de Python de abajo (haciendo click en el icono de la carpeta ![texto alternativo](https://i.ibb.co/jzqwMsc/carpeta.png), de arriba a la izquierda y luego en \"Subir\")\n",
        "- Completen el programa, procesando a la imagen guardada en la matriz \"felix\" para obtener las imágenes de la siguiente figura (La \"A\" es la imagen original), pueden hacer funciones que generen cada transformación en la imagen:\n",
        "\n",
        "![texto alternativo](https://i.ibb.co/VvJBMsF/felix-results.png)"
      ]
    },
    {
      "cell_type": "code",
      "execution_count": null,
      "metadata": {
        "colab": {
          "base_uri": "https://localhost:8080/",
          "height": 574
        },
        "id": "5RXi-2ZbrXkZ",
        "outputId": "7d0433a1-d806-454a-961d-527a42860129"
      },
      "outputs": [
        {
          "output_type": "stream",
          "name": "stdout",
          "text": [
            "Cantidad de pixeles: 280 x 280\n"
          ]
        },
        {
          "output_type": "display_data",
          "data": {
            "text/plain": [
              "<Figure size 640x480 with 1 Axes>"
            ],
            "image/png": "[encoded data removed]"
          },
          "metadata": {}
        },
        {
          "output_type": "stream",
          "name": "stdout",
          "text": [
            "[[0. 0. 0. ... 0. 1. 1.]\n",
            " [0. 0. 0. ... 0. 1. 1.]\n",
            " [0. 0. 0. ... 0. 1. 1.]\n",
            " ...\n",
            " [0. 0. 0. ... 1. 1. 1.]\n",
            " [0. 0. 0. ... 1. 1. 1.]\n",
            " [0. 0. 0. ... 1. 1. 1.]]\n"
          ]
        }
      ],
      "source": [
        "import numpy as np\n",
        "import matplotlib.pyplot as plt\n",
        "import copy as cp\n",
        "\n",
        "###Lectura del archivo en la matriz#####\n",
        "felix = np.genfromtxt('felix.csv', delimiter=',')\n",
        "########################################\n",
        "print(\"Cantidad de pixeles:\",\" x \".join(map(str,felix.shape)))\n",
        "######Para mostrar matriz como imagen###########\n",
        "plt.imshow(felix, cmap='Greys')\n",
        "plt.show()\n",
        "########################################\n",
        "print(felix[0:50,0:50])"
      ]
    },
    {
      "cell_type": "markdown",
      "source": [
        "### **Ejercicio 18**  TDA con Arreglos\n",
        "\n",
        "La unaHur nos pidió ayuda para administrar los laboratorios del campus.\n",
        "Se debe iniciar el TAD Laboratorios con la cantidad de laboratorios disponibles, cosa que no va a cambiar.\n",
        "\n",
        "Cada laboratorio tiene una cantidad de computadoras, una cantidad de sillas y la cantidad de ventanas.\n",
        "\n",
        "Se recomienda crear primero el TAD Laboratorio.\n",
        "\n",
        "Implementar al menos las siguientes operaciones del TAD Laboratorios:\n",
        "definirLaboratorio(indiceLabororatorio, cantCompus, cantVentanas)\n",
        "donde el índice está entre 0 y la cantidad de laboratorios con que se inicializó.\n",
        "\n",
        "Si el laboratorio ya existía, se tiene que redefinir(modificar).\n",
        "\n",
        "laboratorioConMasVentanas():  \n",
        "que devuelve el laboratorio con más ventanas. Notar que no necesariamente están todos los laboratorios definidos.\n",
        "\n",
        "vaciarLaboraratorios():\n",
        "que elimina los laboratorios definidos\n",
        "\n",
        "¡No son las únicas operaciones necesarias, agregar los métodos que crean necesarios, como el constructor!\n",
        "\n",
        "Se recomienda pensarlo antes de mirar una solucion\n",
        "\n",
        "Solucion: https://colab.research.google.com/drive/1vH_3TVtjeZGHjAS2z6MonzB540m5rD4Z?usp=sharing\n"
      ],
      "metadata": {
        "id": "VZxUy5Il99GP"
      }
    },
    {
      "cell_type": "code",
      "source": [
        "class Labo:\n",
        "  def __init__(self, id, cantVentanas, cantcompus, cantSillas):\n",
        "    self.id_ = id\n",
        "    self.cantVentanas_ = cantVentanas\n",
        "    self.cantCompus_ = cantcompus"
      ],
      "metadata": {
        "id": "8FpElUTb-Jro"
      },
      "execution_count": null,
      "outputs": []
    },
    {
      "cell_type": "markdown",
      "source": [
        "### **Ejercicio 19**  TDA con Arreglos\n",
        "\n",
        "La nueva computadora del LIDEC necesita un algoritmo que administre los programas que se cargan en memoria. Para este ejercicio, un programa, es una secuencia de unos y ceros de longitud fija.\n",
        "\n",
        "Cada programa debe tener:\n",
        "\n",
        "-Un nombre\n",
        "\n",
        "-Una secuencia de unos y ceros de tamaño conocido.\n",
        "\n",
        "-En qué fila de la memoria está cargado (-1 si no está cargado).\n",
        "\n",
        "La computadora puede hacer dos cosas, (1) Almacenar un programa en una lista. (2) Cargar el programa en memoria. La memoria es una matriz de una cantidad de filas y columnas conocidas, en donde en cada fila se puede almacenar un programa a la vez.\n",
        "\n",
        "Implementar el TDA Compu que contenga al menos las siguientes operaciones:\n",
        "init(nombre, cantFilas, cantColumnas): Que recibe la cantidad de filas y columnas de la memoria.\n",
        "\n",
        "agregarPrograma(nombrePrograma, listaDatos): Recibe el nombre del programa y la lista de unos y ceros. Si el nombre del programa ya existe, debe arrojar una excepción.\n",
        "\n",
        "cargarPrograma(nombre) → bool: Recibe el nombre del programa que se quiere cargar en memoria. Si el nombre es incorrecto o el programa ya se encontraba en memoria no hace nada. Cada programa debe “entrar” en una sola fila de la memoria. Es decir, solo se carga en memoria la secuencia de unos y ceros dentro de la primera fila que se encuentre disponible. Si el programa no entra en ninguna fila ya sea porque es muy largo o porque no hay filas disponibles, se debe arrojar una excepción.  Por último debe marcar en la lista de programas el número de fila de memoria utilizado, en el programa correspondiente. La función devuelve verdadero si pudo cargar el programa y falso sino.\n",
        "\n",
        "repr(): que muestra la lista de programas, su ubicación en memoria y la memoria de la computadora.\n",
        "\n",
        "Ayuda:  Implementar primero el TDA Programa  y la lista de programas de el tda Compu. Se puede usar cualquier estrategia para ver que fija está disponible, por ejemplo, tener una lista de “filas disponibles” al principio.\n",
        "\n",
        "Notas:\n",
        "No son las únicas operaciones necesarias, agregar las operaciones y funciones que consideren necesarias.\n",
        "\n",
        "Una memoria vacía contiene ceros en todas las posiciones.\n",
        "La memoria es una matriz, pero se recibe una lista como parámetro en las funciones. NO se deben mezclar dos tipos de datos distintos.\n",
        "\n",
        "\n",
        "Recomendamos hacer el ejercicio antes de ver la solucion\n",
        "\n",
        "Solucion: https://colab.research.google.com/drive/1oM5-XweUwgDL9QSLOyFvIuxgK2FXd7HL?usp=sharing"
      ],
      "metadata": {
        "id": "xOpYgKXu-NPw"
      }
    },
    {
      "cell_type": "code",
      "source": [
        "# Asumiendo que parte de la interfaz del TDA Programa es la siguiente:\n",
        "class Programa:\n",
        "  def __init__(self, nombre, listaCerosYUnos):\n",
        "    self._nombre = nombre\n",
        "    self._listaCerosYUnos = listaCerosYUnos\n",
        "    self._filaEnMemoria = -1  # indicando la fila que ocupa en memoria\n",
        "\n",
        "class Compu:\n",
        "  def __init__(self, nombre, cantFilas, cantColumnas):\n",
        "    self._nombre = nombre\n",
        "    self._cantFilas = cantFilas\n",
        "    self._cantColumnas = cantColumnas\n",
        "    # terminar de implementar\n",
        "\n",
        "  def agregarPrograma(self, nombrePrograma, listaCerosYUnos):\n",
        "    # terminar de implementar\n",
        "    programa = Programa(nombrePrograma, listaCerosYUnos)\n",
        "\n",
        "  def cargarPrograma(self, nombre)->bool:\n",
        "    # terminar de implementar\n",
        "    return False\n",
        "\n",
        "  def __repr__(self)-> str:\n",
        "    # terminar de implementar\n",
        "    return \"\"\n",
        "\n",
        "#El TDA Compu deberá superar este test:\n",
        "# creamos una computadora con una memoria de 3x15\n",
        "clementina = Compu('clementina',3,15)\n",
        "# notar que tengo que crear el programa antes de agregarlo a la lista programas\n",
        "clementina.agregarPrograma('gorila.bas',  [0,1,0,1,0,0,0,1,1,1,1])\n",
        "clementina.agregarPrograma('autoexec.bat',  [0,1,0,1,0,0,1,1,0,1,1,1,1])\n",
        "clementina.agregarPrograma('Chome.exe',  [0,1,0,1,0,0,1,1,0,1,1,1,1,0,0,0,0,1,1,1,1,1])\n",
        "clementina.cargarPrograma('gorila.bas')\n",
        "clementina.cargarPrograma('autoexec.bat')\n",
        "# debería arrojar una excepción porque no entra en ninguna fila.\n",
        "# clementina.cargarPrograma(“chrome.exe”)\n",
        "print(clementina)\n",
        "# asumiendo que se cargaron 2 programas en las dos primeras filas, debería imprimir:\n",
        "#gorilla.bas:  cargado en fila 0\n",
        "#autoexec.bat:  cargado en fila 1\n",
        "#chrome.exe: -1 , indicando que no está cargado\n",
        "#0,1,0,1,0,0,0,1,1,1,1,0,0,0\n",
        "#0,1,0,1,0,0,1,1,0,1,1,1,1,0\n",
        "#0,0,0,0,0,0,0,0,0,0,0,0,0,0\n"
      ],
      "metadata": {
        "colab": {
          "base_uri": "https://localhost:8080/"
        },
        "id": "0MMl6hzk-Rmo",
        "outputId": "81993841-b146-439a-cfa8-4b6b2a425c17"
      },
      "execution_count": null,
      "outputs": [
        {
          "output_type": "stream",
          "name": "stdout",
          "text": [
            "\n"
          ]
        }
      ]
    },
    {
      "cell_type": "markdown",
      "source": [
        "# Ejercicio agregado\n",
        "Implementar una función recursiva para encontrar el máximo elemento de un arreglo"
      ],
      "metadata": {
        "id": "BDW02SjSKAQl"
      }
    },
    {
      "cell_type": "code",
      "source": [],
      "metadata": {
        "id": "D0zrazxrJ_1w"
      },
      "execution_count": null,
      "outputs": []
    },
    {
      "cell_type": "markdown",
      "source": [
        "# Ejercicio agregado 2\n",
        "Implementar una función recursiva para encontrar la posicion del máximo elemento de un arreglo"
      ],
      "metadata": {
        "id": "8jsPtEVmKAxb"
      }
    },
    {
      "cell_type": "code",
      "source": [],
      "metadata": {
        "id": "7nPYqwlvJ9rN"
      },
      "execution_count": null,
      "outputs": []
    }
  ],
  "metadata": {
    "colab": {
      "provenance": []
    },
    "kernelspec": {
      "display_name": "Python 3",
      "name": "python3"
    }
  },
  "nbformat": 4,
  "nbformat_minor": 0
}