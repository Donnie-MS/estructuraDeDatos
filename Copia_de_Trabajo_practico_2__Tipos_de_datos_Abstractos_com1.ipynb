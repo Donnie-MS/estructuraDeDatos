{
  "nbformat": 4,
  "nbformat_minor": 0,
  "metadata": {
    "colab": {
      "provenance": []
    },
    "kernelspec": {
      "name": "python3",
      "display_name": "Python 3"
    }
  },
  "cells": [
    {
      "cell_type": "markdown",
      "metadata": {
        "id": "42630xxYD0gZ"
      },
      "source": [
        "# ![alt text](https://upload.wikimedia.org/wikipedia/commons/thumb/c/c3/Python-logo-notext.svg/50px-Python-logo-notext.svg.png) **Trabajo Práctico 2: Tipos de datos abstractos** ![alt text](https://upload.wikimedia.org/wikipedia/commons/thumb/c/c3/Python-logo-notext.svg/50px-Python-logo-notext.svg.png)\n",
        "\n",
        "En este trabajo práctico, vamos a trabajar con la definición de tipos de datos abstractos en Python. Recuerden crear una copia de este archivo en su ***Google Drive*** para tener permisos de edición.\n",
        "\n",
        "### Sergio: **sergio.gonzalez@unahur.edu.ar** ###\n"
      ]
    },
    {
      "cell_type": "markdown",
      "metadata": {
        "id": "cwvo5HlCXnwM"
      },
      "source": [
        "**En cada ejercicio, luego de implementar el TDA pedido, tienen que probar cada una de las operaciones en un programa principal, ejecutando cada una de ellas**\n",
        "\n",
        "**En el video les comenté de la función \\_\\_str__ para la representación de variables de los TDAs, en lugar de \\_\\_str__ pueden implementar \\_\\_repr__ que es similar pero más general (No solo sirve para el *print*, sino para la representación en general de variables del TDA)**\n"
      ]
    },
    {
      "cell_type": "code",
      "source": [
        "def validarTipo(variable:any, nombre:str, tipo:type):\n",
        "  if isinstance(variable, tipo):\n",
        "    return variable\n",
        "  else:\n",
        "    raise TypeError(\"La variable \" + nombre + \" debe ser de tipo \" + str(tipo) + \".\")\n",
        "\n",
        "def validarEnteroPositivo(variable:any, nombre:str):\n",
        "  validarTipo(variable, nombre, int)\n",
        "  if variable > 0:\n",
        "    return variable\n",
        "  else:\n",
        "    raise Exception(\"La variable \" + nombre + \" debe ser un numero positivo\")"
      ],
      "metadata": {
        "id": "Zw0Z6fHghB1P"
      },
      "execution_count": null,
      "outputs": []
    },
    {
      "cell_type": "code",
      "source": [
        "import copy as cp\n",
        "\n",
        "class Vehiculo:\n",
        "  def __init__(self, marca:str, modelo:str, patente:str, cantRuedas:int):\n",
        "    self.__modelo = validarTipo(modelo, \"modelo\", str)\n",
        "    self.__marca = validarTipo(marca, \"marca\", str)\n",
        "    self.__patente = validarTipo(patente, \"patente\", str)\n",
        "    self.__cantRuedas = validarEnteroPositivo(cantRuedas, \"cantRuedas\")\n",
        "\n",
        "  def __repr__(self)->str:\n",
        "    return f\"{self.__marca} {self.__modelo} - {self.__patente} - {self.__cantRuedas}\"\n",
        "\n",
        "  def setPatente(self, patenteNueva:str)->None:\n",
        "    self.__patente = validarTipo(patenteNueva, \"patenteNueva\", str)\n",
        "\n",
        "  def __add__(v1, v2):\n",
        "    return Vehiculo(v1.__marca, v1.__modelo, v1.__patente, v1.__cantRuedas+v2.__cantRuedas)\n",
        "\n",
        "  def clonar(self):\n",
        "    return cp.deepcopy(self)"
      ],
      "metadata": {
        "id": "S0nqxB-Co7jn"
      },
      "execution_count": null,
      "outputs": []
    },
    {
      "cell_type": "code",
      "source": [
        "vehiculo1 = Vehiculo(\"Ford\",\"ka\",\"AAA555\",4)\n",
        "vehiculo2 = Vehiculo(\"Ford\",\"fiesta\",\"JJJ777\",4)\n",
        "vehiculo3 = vehiculo2.clonar()\n",
        "print(vehiculo2)\n",
        "print(vehiculo3)\n",
        "vehiculo2.setPatente(\"BBB444\")\n",
        "print(vehiculo2)\n",
        "print(vehiculo3)"
      ],
      "metadata": {
        "colab": {
          "base_uri": "https://localhost:8080/"
        },
        "id": "R05y_HB9tHdo",
        "outputId": "2dac05b2-e7d7-4e14-95ae-a5c6ae3113b4"
      },
      "execution_count": null,
      "outputs": [
        {
          "output_type": "stream",
          "name": "stdout",
          "text": [
            "Ford fiesta - JJJ777 - 4\n",
            "Ford fiesta - JJJ777 - 4\n",
            "Ford fiesta - BBB444 - 4\n",
            "Ford fiesta - JJJ777 - 4\n"
          ]
        }
      ]
    },
    {
      "cell_type": "markdown",
      "metadata": {
        "id": "DyzOhAhyXPt8"
      },
      "source": [
        "### **Ejercicio 1**\n",
        "\n",
        "Implementar el TDA \"Propiedad\" que modela un inmueble, con una estructura definida por los siguientes componentes:\n",
        "- Calle\n",
        "- Número\n",
        "- Localidad\n",
        "- Año de construcción\n",
        "- Cantidad de ambientes\n",
        "\n",
        "Implementar las siguientes operaciones:\n",
        "- Constructor: Debe incluir las validaciones necesarias, teniendo en cuenta que solo se almacenan propiedades construidas luego de 1870.\n",
        "- \\_\\_repr__: Al usar la función *print* con una variable del tipo propiedad debe mostrar: **'calle' 'numero' ('localidad')**.\n",
        "- mismaLocalidad: Operación que recibe dos propiedades y retorna *True* si estan en la misma localidad y *False* en caso contrario.\n",
        "- mayorNumeración: Operación que recibe dos propiedades y si están en la misma calle, retorna la que posee mayor numeración. Si están calles diferentes debe lanzar una excepción.\n",
        "- calculaImpuestoARBA: Operación que retorna el porcentaje de impuesto inmobiliario de una propiedad, según la siguiente regla:\n",
        " - Propiedades entre 1870 y 1949:\n",
        "   - Entre 1 y 3 ambientes: 5% de impuesto\n",
        "   - Entre 4 y 6 ambientes: 10% de impuesto\n",
        "   - Más de 6 ambientes: 25 % de impuesto\n",
        " - Propiedades desde 1950 hasta la actualidad:\n",
        "   - Entre 1 y 5 ambientes: 5% de impuesto\n",
        "   - Más de 5 ambientes: 35 % de impuesto\n"
      ]
    },
    {
      "cell_type": "code",
      "metadata": {
        "id": "RaEQSMR_cgI_",
        "colab": {
          "base_uri": "https://localhost:8080/"
        },
        "outputId": "2d625a8a-8341-43f9-81ea-fe2aae0c7594"
      },
      "source": [
        "def validarAñoDeConstruccionPermitida(variable:any, nombre:str):\n",
        "  validarTipo(variable, nombre, int)\n",
        "  if variable > 1870:\n",
        "    return variable\n",
        "  else:\n",
        "    raise Exception(f\"La variable {nombre} debe ser un número mayor a 1870\")\n",
        "\n",
        "def validarEnteroPositivo(variable:any, nombre:str):\n",
        "  validarTipo(variable, nombre, int)\n",
        "  if variable > 0:\n",
        "    return variable\n",
        "  else:\n",
        "    raise Exception(f\"La variable {nombre} debe ser un número entero positivo\")\n",
        "\n",
        "def validarTipo(variable:any, nombre:str, tipo:type):\n",
        "  if isinstance(variable, tipo):\n",
        "    return variable\n",
        "  else:\n",
        "    raise Exception(f\"La variable {nombre} debe ser de tipo {tipo}.\")\n",
        "\n",
        "class Propiedad:\n",
        "  def __init__(self, calle:str = \"\", numero:int = 0, localidad:str = \"\", añoDeConstruccion:int = 0, cantidadDeAmbientes:int = 0):\n",
        "    self.__calle = validarTipo(calle, \"calle\", str)\n",
        "    self.__numero = validarEnteroPositivo(numero, \"numero\")\n",
        "    self.__localidad = validarTipo(localidad, \"localidad\", str)\n",
        "    self.__añoDeConstruccion = validarAñoDeConstruccionPermitida(añoDeConstruccion, \"año de construccion\")\n",
        "    self.__cantidadDeAmbientes = validarEnteroPositivo(cantidadDeAmbientes, \"cantidad de ambientes\")\n",
        "\n",
        "  def __repr__(self)->str:\n",
        "    return f\"La propiedad está en la calle {self.__calle} {self.__numero} en la localidad de {self.__localidad}\"\n",
        "\n",
        "  def get_añoDeConstruccion(self):\n",
        "    return self.__añoDeConstruccion\n",
        "\n",
        "  def get_localidad(self):\n",
        "    return self.__localidad\n",
        "\n",
        "  def get_cantidadDeAmbientes(self):\n",
        "    return self.__cantidadDeAmbientes\n",
        "\n",
        "  def get_calle(self):\n",
        "    return self.__calle\n",
        "\n",
        "  def get_numero(self):\n",
        "    return self.__numero\n",
        "\n",
        "propiedad1 = Propiedad(\"latzina\", 1975, \"ituzaingo\", 1999, 4)\n",
        "propiedad2 = Propiedad(\"latzina\", 1800, \"ituzaingo\", 1999, 4)\n",
        "\n",
        "def obtenerMayorNumeracion(primerPropiedad, segundaPropiedad):\n",
        "  if mismaCalle(primerPropiedad, segundaPropiedad):\n",
        "    return compararPropiedadesPorNumeracion(primerPropiedad, segundaPropiedad)\n",
        "  raise Exception(\"las calles son distintas\")\n",
        "\n",
        "def compararPropiedadesPorNumeracion(primerPropiedad, segundaPropiedad):\n",
        "  if primerPropiedad.get_numero() > segundaPropiedad.get_numero():\n",
        "    return primerPropiedad\n",
        "  return segundaPropiedad\n",
        "\n",
        "def mismaCalle(primerPropiedad:Propiedad, segundaPropiedad:Propiedad):\n",
        "  return primerPropiedad.get_calle() == segundaPropiedad.get_calle()\n",
        "\n",
        "def mismaLocalidad(primerPropiedad:Propiedad, segundaPropiedad:Propiedad):\n",
        "  return primerPropiedad.get_localidad() == segundaPropiedad.get_localidad()\n",
        "\n",
        "def calcularImpuestoPorAmbientesARBA(unaPropiedad: any) -> str:\n",
        "    if unaPropiedad.get_añoDeConstruccion() > 1949:\n",
        "        return calcularImpuestoARBA1950YActualidad(unaPropiedad)\n",
        "    return calcularImpuestoARBA1870Y1949(unaPropiedad)\n",
        "\n",
        "def calcularImpuestoARBA1870Y1949(unaPropiedad: any) -> str:\n",
        "    if unaPropiedad.get_cantidadDeAmbientes() <= 5:\n",
        "        return \"5% de impuesto\"\n",
        "    return \"35% de impuesto\"\n",
        "\n",
        "def calcularImpuestoARBA1950YActualidad(unaPropiedad: any) -> str:\n",
        "    if unaPropiedad.get_cantidadDeAmbientes() <= 3:\n",
        "        return \"5% de impuesto\"\n",
        "    elif unaPropiedad.get_cantidadDeAmbientes() <= 6:\n",
        "        return \"10% de impuesto\"\n",
        "    else:\n",
        "        return \"25% de impuesto\"\n",
        "print(obtenerMayorNumeracion(propiedad1, propiedad2))\n"
      ],
      "execution_count": null,
      "outputs": [
        {
          "output_type": "stream",
          "name": "stdout",
          "text": [
            "La propiedad está en la calle latzina 1975 en la localidad de ituzaingo\n"
          ]
        }
      ]
    },
    {
      "cell_type": "markdown",
      "metadata": {
        "id": "rP1dZEXTe-qq"
      },
      "source": [
        "### **Ejercicio 2**\n",
        "\n",
        "Implementar el TDA \"Cuenta\" que modela una cuenta bancaria, la estructura de datos esta compuesta por los siguientes componentes:\n",
        "- Número de cuenta\n",
        "- DNI del titular\n",
        "- Saldo de cuenta actual\n",
        "- Interés anual\n",
        "\n",
        "Implementar las siguientes operaciones:\n",
        "- Constructor: Debe incluir las validaciones necesarias.\n",
        "- \\_\\_repr__: Al usar la función *print* con una variable del tipo cuenta debe mostrar: **Cuenta Nro: 'numero' - Titular: 'dni' ($'saldo')**.\n",
        "- actualizarSaldo: Operación que actualiza el saldo de la cuenta aplicándole el interés diario (interés anual dividido entre 365).\n",
        "- ingresarDinero: Operación que recibe un número e ingresa esa cantidad en la cuenta.\n",
        "- retirarDinero: Operación que recibe un número y extrae esa cantidad de la cuenta (si hay saldo disponible), sino debe lanzar una excepción."
      ]
    },
    {
      "cell_type": "code",
      "source": [
        "def validarTipo(variable:any, nombre:str, tipo:type):\n",
        "  if isinstance(variable, tipo):\n",
        "    return variable\n",
        "  else:\n",
        "    raise TypeError(\"La variable \" + nombre + \" debe ser de tipo \" + str(tipo) + \".\")\n",
        "\n",
        "def validarEnteroPositivo(variable:any, nombre:str):\n",
        "  validarTipo(variable, nombre, int)\n",
        "  if variable > 0:\n",
        "    return variable\n",
        "  else:\n",
        "    raise Exception(\"La variable \" + nombre + \" debe ser un numero positivo\")\n",
        "\n",
        "def validarNroCuenta(variable:any, nombre:str):\n",
        "  validarTipo(variable, nombre, str)\n",
        "  if variable != \"\":\n",
        "    return variable\n",
        "  else:\n",
        "    raise Exception(\"La variable \" + nombre + \" debe ser un string no vacio\")"
      ],
      "metadata": {
        "id": "2ogO2BzXgT06"
      },
      "execution_count": null,
      "outputs": []
    },
    {
      "cell_type": "code",
      "metadata": {
        "id": "IEDFppP6hENW"
      },
      "source": [
        "def validarTipo(variable:any, nombre:str, tipo:type):\n",
        "    if isinstance(variable, tipo):\n",
        "        return variable\n",
        "    raise TypeError(f\"la variable {nombre} debe ser de tipo {str(tipo)}\")\n",
        "\n",
        "def validarEnteroPositivo(variable:any, nombre:str):\n",
        "    validarTipo(variable, nombre, int)\n",
        "    if variable > 0:\n",
        "      return variable\n",
        "    raise Exception(f\"La variable {nombre} no es numero entero positivo\")\n",
        "\n",
        "class Cuenta:\n",
        "    def __init__(self, nroCuenta:str, dni:int, saldo:float, intAnual:float):\n",
        "        self.__nroCuenta = validarTipo(nroCuenta, \"numero de cuenta\", str)\n",
        "        self.__dni = dni = validarEnteroPositivo(dni, \"dni\")\n",
        "        self.__saldo = validarTipo(saldo, \"saldo\", float)\n",
        "        self.__intAnual = validarTipo(intAnual, \"interes anual\", float)\n",
        "\n",
        "    def __repr__(self)->str:\n",
        "        return f\"Cuenta Nro {self.__nroCuenta} - Titular: {self.__dni}({self.__saldo})\"\n",
        "\n",
        "    def actualizarSaldo(self)->None:\n",
        "        interesDiario = self.__intAnual / 365\n",
        "        self.__saldo += self.__saldo * (interesDiario / 100)\n",
        "\n",
        "    def ingresarDinero(self, montoAIngresar:float)->None:\n",
        "        self.__saldo += montoAIngresar\n",
        "\n",
        "    def retirarDinero(self, montoAExtraer)->None:\n",
        "        if self.__saldo >= montoAExtraer:\n",
        "            self.__saldo -= montoAExtraer\n",
        "        else:\n",
        "            raise Exception(\"No hay fondos suficientes\")\n"
      ],
      "execution_count": null,
      "outputs": []
    },
    {
      "cell_type": "code",
      "source": [
        "cuenta1 = Cuenta(\"1212dsfsafd\", 3456543, 12342.45, 450.6)\n",
        "print(cuenta1)\n",
        "cuenta1.actualizarSaldo()\n",
        "print(cuenta1)\n",
        "\n",
        "cuenta1.ingresarDinero(2304.23)\n",
        "print(cuenta1)\n",
        "\n",
        "cuenta1.retirarDinero(204.23)\n",
        "print(cuenta1)\n"
      ],
      "metadata": {
        "colab": {
          "base_uri": "https://localhost:8080/"
        },
        "id": "S_QcC08gg5B2",
        "outputId": "760e83fa-917e-461e-d682-c64dc83c1f1e"
      },
      "execution_count": null,
      "outputs": [
        {
          "output_type": "stream",
          "name": "stdout",
          "text": [
            "Cuenta Nro 1212dsfsafd - Titular: 3456543(12342.45)\n",
            "Cuenta Nro 1212dsfsafd - Titular: 3456543(12494.820081369864)\n",
            "Cuenta Nro 1212dsfsafd - Titular: 3456543(14799.050081369864)\n",
            "Cuenta Nro 1212dsfsafd - Titular: 3456543(14594.820081369864)\n"
          ]
        }
      ]
    },
    {
      "cell_type": "code",
      "source": [],
      "metadata": {
        "id": "BejWloWAjVSz"
      },
      "execution_count": null,
      "outputs": []
    },
    {
      "cell_type": "markdown",
      "metadata": {
        "id": "x8DVU8HlhE2q"
      },
      "source": [
        "### **Ejercicio 3**\n",
        "\n",
        "Implementar el TDA \"Tiempo\" que modela una duracion en horas, minutos y segundos.\n",
        "\n",
        "Se deben implementar las siguientes operaciones:\n",
        "- Constructor: Debe incluir las validaciones necesarias, la hora debe ser un número positivo y los minutos y segundos deben ser números positivos entre 0 y 59.\n",
        "- \\_\\_repr__: Al usar la función *print* con una variable del tipo tiempo debe mostrar: **'horas':'minutos':'segundos'**.\n",
        "- tiempoASegundos: Operación que toma una variable de tipo tiempo y retorna la cantidad en segundos.\n",
        "- tiemposDesdeSegundos: Operación que recibe un tiempo en segundos como parámetro y retorna una variable de tipo tiempo, en horas minutos y segundos.\n",
        "- mayorDuracion: Operación que recibe dos variables de tipo tiempo y retorna la de mayor duración."
      ]
    },
    {
      "cell_type": "code",
      "source": [
        "\"\"\"def validarTipo(variable:any, nombre:str, tipo:type):\n",
        "  if isinstance(variable, tipo):\n",
        "    return variable\n",
        "  else:\n",
        "    raise TypeError(\"La variable \" + nombre + \" debe ser de tipo \" + str(tipo) + \".\")\n",
        "\n",
        "def validarHora(variable:any, nombre:str):\n",
        "  validarTipo(variable, nombre, int)\n",
        "  if variable >= 0:\n",
        "    return variable\n",
        "  else:\n",
        "    raise Exception(\"La variable \" + nombre + \" debe ser un numero mayor o igual a 0\")\n",
        "\n",
        "def validarMinSeg(variable:any, nombre:str):\n",
        "  validarTipo(variable, nombre, int)\n",
        "  if 0 <= variable < 60:\n",
        "    return variable\n",
        "  else:\n",
        "    raise Exception(\"La variable \" + nombre + \" debe ser un numero entre 0 y 59\")\n",
        "\"\"\""
      ],
      "metadata": {
        "id": "yK1lzgJPIQXJ"
      },
      "execution_count": null,
      "outputs": []
    },
    {
      "cell_type": "markdown",
      "source": [],
      "metadata": {
        "id": "V52FFyWsocgn"
      }
    },
    {
      "cell_type": "code",
      "source": [
        "import copy as cp\n",
        "\n",
        "def validarTipo(variable:any, nombre:str, tipo:type):\n",
        "    if isinstance(variable, tipo):\n",
        "        return variable\n",
        "    raise TypeError(f\"La variable {nombre} debe ser de tipo {str(tipo)}\")\n",
        "\n",
        "def validarHora(variable:any, nombre:str):\n",
        "    validarTipo(variable, nombre, int)\n",
        "    if variable >= 0:\n",
        "        return variable\n",
        "    raise Exception(f\"La varaible {nombre} debe ser un numero mayor o igual a 0\")\n",
        "\n",
        "def validarMinSeg(variable:any, nombre:str):\n",
        "    validarTipo(variable, nombre, int)\n",
        "    if 0 <= variable < 60:\n",
        "        return variable\n",
        "    raise Exception(f\"la variable {nombre} debe ser un numero entre el 0 y 59\")\n",
        "\n",
        "class Tiempo:\n",
        "    def __init__(self, hora, minutos, segundos)->None:\n",
        "        self.__hora = validarHora(hora, \"hora\")\n",
        "        self.__minutos = validarMinSeg(minutos, \"minutos\")\n",
        "        self.__segundos = validarMinSeg(segundos, \"segundos\")\n",
        "\n",
        "    def __repr__(self) -> str:\n",
        "        return f\"horas:{self.__hora} minuto:{self.__minutos} segundo: {self.__segundos}\"\n",
        "\n",
        "    def tiempoASegundos(self) -> int:\n",
        "        return self.__hora * 3600 + self.__minutos * 60 + self.__segundos\n",
        "\n",
        "    def __gt__(self, otroTiempo)->bool:\n",
        "        return self.tiempoASegundos() > otroTiempo.tiempoASegundos()\n",
        "\n",
        "    def __lt__(self, otroTiempo) -> bool:\n",
        "        return self.tiempoASegundos() < otroTiempo.tiempoASegundos()\n",
        "\n",
        "    @staticmethod\n",
        "    def tiemposDesdeSegundos(segundos:int) -> 'Tiempo':\n",
        "        cantHoras = segundos // 3600\n",
        "        segundos %= 3600\n",
        "        cantMinutos = segundos // 60\n",
        "        cantSegundos = segundos % 60\n",
        "        return Tiempo(cantHoras, cantMinutos, cantSegundos)\n",
        "\n",
        "    @staticmethod\n",
        "    def mayorDuracion(primerTiempo, segundoTiempo) -> 'Tiempo':\n",
        "        if primerTiempo > segundoTiempo:\n",
        "            return primerTiempo\n",
        "        return segundoTiempo\n",
        "\n",
        "    def __eq__(self, otroTiempo) -> bool:\n",
        "        return self.tiempoASegundos() == otroTiempo.tiempoASegundos()\n",
        "\n",
        "    def __sub__(self, otroTiempo) -> 'Tiempo':\n",
        "        diferencia = self.tiempoASegundos() - otroTiempo.tiempoASegundos()\n",
        "        if diferencia >= 0:\n",
        "            return Tiempo.tiemposDesdeSegundos(diferencia)\n",
        "        raise ValueError(\"la diferencia de tiempos es negativa\")\n"
      ],
      "metadata": {
        "id": "ZtL44I9lI1Lf"
      },
      "execution_count": null,
      "outputs": []
    },
    {
      "cell_type": "code",
      "source": [
        "t1 = Tiempo(3, 56, 14)\n",
        "t2 = Tiempo(2, 34, 21)\n",
        "\n",
        "t3 = Tiempo.mayorDuracion(t1, t2)\n",
        "\n",
        "print(t1)\n",
        "print(t2)\n",
        "print(t3)"
      ],
      "metadata": {
        "colab": {
          "base_uri": "https://localhost:8080/",
          "height": 211
        },
        "id": "dUiU943uJgob",
        "outputId": "7fcaf3ee-61d3-410e-a539-11d2e9f7f9a9"
      },
      "execution_count": null,
      "outputs": [
        {
          "output_type": "error",
          "ename": "NameError",
          "evalue": "name 'Tiempo' is not defined",
          "traceback": [
            "\u001b[0;31m---------------------------------------------------------------------------\u001b[0m",
            "\u001b[0;31mNameError\u001b[0m                                 Traceback (most recent call last)",
            "\u001b[0;32m<ipython-input-6-6b54a4f40ed8>\u001b[0m in \u001b[0;36m<cell line: 2>\u001b[0;34m()\u001b[0m\n\u001b[1;32m      1\u001b[0m \u001b[0;32mimport\u001b[0m \u001b[0mcopy\u001b[0m \u001b[0;32mas\u001b[0m \u001b[0mcp\u001b[0m\u001b[0;34m\u001b[0m\u001b[0;34m\u001b[0m\u001b[0m\n\u001b[0;32m----> 2\u001b[0;31m \u001b[0mt1\u001b[0m \u001b[0;34m=\u001b[0m \u001b[0mTiempo\u001b[0m\u001b[0;34m(\u001b[0m\u001b[0;36m3\u001b[0m\u001b[0;34m,\u001b[0m \u001b[0;36m56\u001b[0m\u001b[0;34m,\u001b[0m \u001b[0;36m14\u001b[0m\u001b[0;34m)\u001b[0m\u001b[0;34m\u001b[0m\u001b[0;34m\u001b[0m\u001b[0m\n\u001b[0m\u001b[1;32m      3\u001b[0m \u001b[0mt2\u001b[0m \u001b[0;34m=\u001b[0m \u001b[0mTiempo\u001b[0m\u001b[0;34m(\u001b[0m\u001b[0;36m2\u001b[0m\u001b[0;34m,\u001b[0m \u001b[0;36m34\u001b[0m\u001b[0;34m,\u001b[0m \u001b[0;36m21\u001b[0m\u001b[0;34m)\u001b[0m\u001b[0;34m\u001b[0m\u001b[0;34m\u001b[0m\u001b[0m\n\u001b[1;32m      4\u001b[0m \u001b[0;34m\u001b[0m\u001b[0m\n\u001b[1;32m      5\u001b[0m \u001b[0mt3\u001b[0m \u001b[0;34m=\u001b[0m \u001b[0mTiempo\u001b[0m\u001b[0;34m.\u001b[0m\u001b[0mmayorDuracion\u001b[0m\u001b[0;34m(\u001b[0m\u001b[0mt1\u001b[0m\u001b[0;34m,\u001b[0m \u001b[0mt2\u001b[0m\u001b[0;34m)\u001b[0m\u001b[0;34m\u001b[0m\u001b[0;34m\u001b[0m\u001b[0m\n",
            "\u001b[0;31mNameError\u001b[0m: name 'Tiempo' is not defined"
          ]
        }
      ]
    },
    {
      "cell_type": "markdown",
      "source": [
        "\n",
        "### **Ejercicio 4: TDA en dos niveles**\n",
        "\n",
        "Modelar el TDA \"Cronometro\", que contiene un tiempo inicial y un tiempo final.\n",
        "\n",
        "Se deben implementar las siguientes operaciones:\n",
        "\n",
        "- Constructor: Queremos modelar el tiempo inicial y final con el TDA \"Tiempo\". Se pueden tener dos variables que se inicializaran en otra operación de la interface.\n",
        "- Comenzar: Debe recibir las hs,min y seg iniciales.\n",
        "- Finalizar: Debe recibir las hs,min y seg finales.\n",
        "- TiempoEmpleado: Devuelve una variable de tipo Tiempo con la diferencia entre el tiempo inicial y el final."
      ],
      "metadata": {
        "id": "5gcdaYCShYkt"
      }
    },
    {
      "cell_type": "code",
      "source": [
        "\"\"\"\n",
        "def validarTipo(variable:any, nombre:str, tipo:type):\n",
        "  if isinstance(variable, tipo):\n",
        "    return variable\n",
        "  else:\n",
        "    raise TypeError(\"La variable \" + nombre + \" debe ser de tipo \" + str(tipo) + \".\")\n",
        "\n",
        "def validarOrdenTiempos(tiempoInicial:Tiempo, tiempoFinal:Tiempo)->None:\n",
        "  if tiempoFinal < tiempoInicial:\n",
        "    raise Exception(\"El tiempo final debe ser mayor o igual al tiempo inicial\")\n",
        "\n",
        "\"\"\"\n",
        "\n",
        "\n"
      ],
      "metadata": {
        "id": "zwXGYhW0US4b"
      },
      "execution_count": null,
      "outputs": []
    },
    {
      "cell_type": "code",
      "metadata": {
        "id": "5Y-A98mZkTEq",
        "colab": {
          "base_uri": "https://localhost:8080/",
          "height": 106
        },
        "outputId": "fad7ba89-f714-4112-ce44-85568b417b7c"
      },
      "source": [
        "\"\"\"\n",
        "\n",
        "Ejercicio 4: TDA en dos niveles\n",
        "Modelar el TDA \"Cronometro\", que contiene un tiempo inicial y un tiempo final.\n",
        "\n",
        "Se deben implementar las siguientes operaciones:\n",
        "\n",
        "Constructor: Queremos modelar el tiempo inicial y final con el TDA \"Tiempo\". Se pueden tener dos variables que se inicializaran en otra operación de la interface.\n",
        "Comenzar: Debe recibir las hs,min y seg iniciales.\n",
        "Finalizar: Debe recibir las hs,min y seg finales.\n",
        "TiempoEmpleado: Devuelve una variable de tipo Tiempo con la diferencia entre el tiempo inicial y el final.\n",
        "\n",
        "\"\"\"\n",
        "\n",
        "def validarTipo(variable:any, nombre:str, tipo:type) -> any:\n",
        "    if isinstance(variable, tipo):\n",
        "        return variable\n",
        "    raise TypeError(f\"La variable {variable} debe ser de tipo {tipo}\")\n",
        "\n",
        "def validarOrdenTiempos(tiempoInicial:Tiempo, tiempoFinal:Tiempo) -> None:\n",
        "    if tiempoInicial < tiempoFinal:\n",
        "        raise ValueError(\"El tiempo final debe ser mayor o igual al tiempo inicial.\")\n",
        "\n",
        "class Cronometro:\n",
        "    def __init__(self, tiempoInicial:Tiempo=None, tiempoFinal:Tiempo=None) -> None:\n",
        "        self.__tiempoInicial = None\n",
        "        self.__tiempoFinal = None\n",
        "        if tiempoInicial is not None:\n",
        "            self.__tiempoInicial = validarTipo(tiempoInicial, \"tiempo inicial\", Tiempo)\n",
        "        if tiempoFinal is not None:\n",
        "            self.__tiempoFinal = validarTipo(tiempoFinal, \"tiempo final\", Tiempo)\n",
        "        if tiempoInicial is not None and tiempoFinal is not None:\n",
        "            validarOrdenTiempos(self.__tiempoInicial, self.__tiempoFinal)\n",
        "\n",
        "    def __repr__(self) ->str:\n",
        "        return f\"Tiempo inicial {self.__tiempoInicial} y tiempo final: {self.__tiempoFinal}\"\n",
        "\n",
        "    def comenzar(self, horas:int, minutos:int, segundos:int) -> None:\n",
        "        self.__tiempoInicial = Tiempo(horas, minutos, segundos)\n",
        "        self.__tiempoFinal = None\n",
        "\n",
        "    def finalizar(self, horas:int, minutos:int, segundos:int) -> None:\n",
        "        final = Tiempo(horas, minutos, segundos)\n",
        "        validarOrdenTiempos(self.__tiempoInicial, final)\n",
        "        self.__tiempoFinal = final\n",
        "\n",
        "    def tiempoEmpleado(self) -> 'Tiempo':\n",
        "        tiempoFinal = None\n",
        "\n",
        "        if self.__tiempoInicial != None and self.__tiempoFinal != None:\n",
        "            tiempoFinal = self.__tiempoFinal - self.__tiempoInicial\n",
        "        return tiempoFinal\n",
        "\n"
      ],
      "execution_count": null,
      "outputs": [
        {
          "output_type": "error",
          "ename": "SyntaxError",
          "evalue": "incomplete input (<ipython-input-7-d6e8cf0255b8>, line 42)",
          "traceback": [
            "\u001b[0;36m  File \u001b[0;32m\"<ipython-input-7-d6e8cf0255b8>\"\u001b[0;36m, line \u001b[0;32m42\u001b[0m\n\u001b[0;31m    \"\"\"\u001b[0m\n\u001b[0m    ^\u001b[0m\n\u001b[0;31mSyntaxError\u001b[0m\u001b[0;31m:\u001b[0m incomplete input\n"
          ]
        }
      ]
    },
    {
      "cell_type": "code",
      "source": [
        "crono1 = Cronometro()\n",
        "print(crono1.tiempoEmpleado())\n",
        "print(crono1)\n",
        "crono1.comenzar(19,18,23)\n",
        "print(crono1)\n",
        "crono1.finalizar(20,10,15)\n",
        "print(crono1)\n",
        "print(crono1.tiempoEmpleado())\n"
      ],
      "metadata": {
        "colab": {
          "base_uri": "https://localhost:8080/",
          "height": 211
        },
        "id": "36z8bdA7TbOW",
        "outputId": "0f835d34-2171-4e38-a238-8183ac6bd290"
      },
      "execution_count": null,
      "outputs": [
        {
          "output_type": "error",
          "ename": "NameError",
          "evalue": "name 'Cronometro' is not defined",
          "traceback": [
            "\u001b[0;31m---------------------------------------------------------------------------\u001b[0m",
            "\u001b[0;31mNameError\u001b[0m                                 Traceback (most recent call last)",
            "\u001b[0;32m<ipython-input-1-f69a6b246526>\u001b[0m in \u001b[0;36m<cell line: 1>\u001b[0;34m()\u001b[0m\n\u001b[0;32m----> 1\u001b[0;31m \u001b[0mcrono1\u001b[0m \u001b[0;34m=\u001b[0m \u001b[0mCronometro\u001b[0m\u001b[0;34m(\u001b[0m\u001b[0;34m)\u001b[0m\u001b[0;34m\u001b[0m\u001b[0;34m\u001b[0m\u001b[0m\n\u001b[0m\u001b[1;32m      2\u001b[0m \u001b[0mprint\u001b[0m\u001b[0;34m(\u001b[0m\u001b[0mcrono1\u001b[0m\u001b[0;34m.\u001b[0m\u001b[0mtiempoEmpleado\u001b[0m\u001b[0;34m(\u001b[0m\u001b[0;34m)\u001b[0m\u001b[0;34m)\u001b[0m\u001b[0;34m\u001b[0m\u001b[0;34m\u001b[0m\u001b[0m\n\u001b[1;32m      3\u001b[0m \u001b[0mprint\u001b[0m\u001b[0;34m(\u001b[0m\u001b[0mcrono1\u001b[0m\u001b[0;34m)\u001b[0m\u001b[0;34m\u001b[0m\u001b[0;34m\u001b[0m\u001b[0m\n\u001b[1;32m      4\u001b[0m \u001b[0mcrono1\u001b[0m\u001b[0;34m.\u001b[0m\u001b[0mcomenzar\u001b[0m\u001b[0;34m(\u001b[0m\u001b[0;36m19\u001b[0m\u001b[0;34m,\u001b[0m\u001b[0;36m18\u001b[0m\u001b[0;34m,\u001b[0m\u001b[0;36m23\u001b[0m\u001b[0;34m)\u001b[0m\u001b[0;34m\u001b[0m\u001b[0;34m\u001b[0m\u001b[0m\n\u001b[1;32m      5\u001b[0m \u001b[0mprint\u001b[0m\u001b[0;34m(\u001b[0m\u001b[0mcrono1\u001b[0m\u001b[0;34m)\u001b[0m\u001b[0;34m\u001b[0m\u001b[0;34m\u001b[0m\u001b[0m\n",
            "\u001b[0;31mNameError\u001b[0m: name 'Cronometro' is not defined"
          ]
        }
      ]
    },
    {
      "cell_type": "markdown",
      "source": [
        "### **Ejercicio 5: TDA en dos niveles**\n",
        "\n",
        "Modelar el TDA \"Rectangulo\" a partir de los dos lados que lo definen.\n",
        "\n",
        "Se deben implementar las siguientes operaciones:\n",
        "\n",
        "- Constructor: Recibe las longitudes de ambos lados\n",
        "- area: calcula y devuelve el area del rectangulo\n",
        "- perimetro: calcula y devuelve el perimetro\n",
        "- \\_\\_repr__ : imprime la longitud de los lados\n",
        "\n",
        "Luego, modelar el TDA \"Cuadrado\" teniendo unicamente como variable interna en la estructura una variable de tipo \"Rectangulo\". El TDA Cuadrado debe tener las mismas operaciones que el TDA Rectangulo.\n",
        "\n",
        "Ayuda:\n",
        "\n",
        "Área(Rectángulo) = lado1 \\* lado2\n",
        "\n",
        "Área(Cuadrado) = lado^2\n",
        "\n",
        "Perímetro(Rectangulo) = 2 \\* lado1 + 2 \\* lado2\n",
        "\n",
        "Perímetro(Cuadrado) = 4 \\* lado"
      ],
      "metadata": {
        "id": "TX3EbDojGmAV"
      }
    },
    {
      "cell_type": "code",
      "source": [
        "def validarTipo(variable:any, nombre:str, tipo:type):\n",
        "  if isinstance(variable, tipo):\n",
        "    return variable\n",
        "  else:\n",
        "    raise TypeError(\"La variable \" + nombre + \" debe ser de tipo \" + str(tipo) + \".\")\n",
        "\n",
        "def validarEnteroPositivo(variable:any, nombre:str):\n",
        "  validarTipo(variable, nombre, int)\n",
        "  if variable > 0:\n",
        "    return variable\n",
        "  else:\n",
        "    raise Exception(\"La variable \" + nombre + \" debe ser un numero positivo\")"
      ],
      "metadata": {
        "id": "H6zkclIucKkx"
      },
      "execution_count": null,
      "outputs": []
    },
    {
      "cell_type": "code",
      "source": [
        "\n",
        "\n",
        "def validarTipoDeDato(variable:any, nombre:str, tipo:type):\n",
        "    \"\"\"\n",
        "        Purpose:\n",
        "          Indica si la variable proporcionada es del tipo especificado.\n",
        "\n",
        "        Args:\n",
        "        *variable: any - Indica la variable a evaluar.\n",
        "        *nombre: str - Indica el nombre de la variable, utilizado en el mensaje de error si el tipo no coincide.\n",
        "        *tipo: type - Indica el type esperado de la variable.\n",
        "\n",
        "        Returns:\n",
        "          any: La misma variable si es del tipo esperado.\n",
        "\n",
        "        Raise:\n",
        "          TypeError: Si la variable no es del tipo esperado.\n",
        "    \"\"\"\n",
        "    if isinstance(variable, tipo):\n",
        "        return variable\n",
        "    raise TypeError(f\"la variable {nombre} debe ser de tipo {str(tipo)}\")\n",
        "\n",
        "def validarEnteroPositivo(variable:any, nombre:str):\n",
        "    \"\"\"\n",
        "        Proposito:\n",
        "          Valida que una variable sea entero positivo o cero.\n",
        "\n",
        "        Preconditions:\n",
        "          La variable debe ser un entero (verificado por la función `validarTipoDeDato`)\n",
        "\n",
        "        Args:\n",
        "          *variable: any - Indica la variable a evaluar\n",
        "          *nombre: str - Describe el nombre de la variable, usado para mensajes de error.\n",
        "\n",
        "        Returns:\n",
        "          int: La misma variable si pasa la validación.\n",
        "\n",
        "        Raises:\n",
        "          TypeError: Si la variable no es un entero.\n",
        "          ValueError: Si la variable no es un entero positivo.\n",
        "    \"\"\"\n",
        "    validarTipoDeDato(variable, nombre, int)\n",
        "    if variable >= 0:\n",
        "        return variable\n",
        "    raise ValueError(f\"La valor de la variable {nombre} debe ser un entero positivo, pero se recibió: {variable}.\")\n",
        "\n",
        "\n",
        "class Rectangulo:\n",
        "    def __init__(self, lado1:int, lado2:int) -> None:\n",
        "        self.__lado1 = validarEnteroPositivo(lado1, \"lado1\")\n",
        "        self.__lado2 = validarEnteroPositivo(lado2, \"lado2\")\n",
        "\n",
        "    def __repr__(self):\n",
        "        return f\"La primera longitud es: {self.__lado1} y la segunda es: {self.__lado2}\"\n",
        "\n",
        "    @property\n",
        "    def lado1(self):\n",
        "        return self.__lado1\n",
        "\n",
        "    @property\n",
        "    def lado2(self):\n",
        "        return self.__lado2\n",
        "\n",
        "    def area(self):\n",
        "        return self.__lado1 * self.__lado2\n",
        "\n",
        "    def perimetro(self):\n",
        "        return (2 * self.__lado1) + (2 * self.__lado2)\n",
        "\n",
        "\n",
        "class Cuadrado:\n",
        "    def __init__(self, lado) -> None:\n",
        "        self.__figuraGeometrica = Rectangulo(lado, lado)\n",
        "\n",
        "    def __repr__(self) -> str:\n",
        "        return f\"es un cuadrado es de {str(self.__figuraGeometrica)}\"\n",
        "\n",
        "    def area(self) -> int:\n",
        "        return self.__figuraGeometrica.lado1 ** 2\n",
        "\n",
        "    def perimetro(self) -> int:\n",
        "        return self.__figuraGeoemtrica.perimetro()\n"
      ],
      "metadata": {
        "id": "X7EFCmDFG5Ph"
      },
      "execution_count": null,
      "outputs": []
    },
    {
      "cell_type": "code",
      "source": [
        "rect1 = Rectangulo(3,4)\n",
        "rect1 = Rectangulo(3, 4)\n",
        "print(rect1)\n",
        "print(rect1.area())\n",
        "\n",
        "print(rect1)\n",
        "print(rect1.area())\n",
        "print(rect1.perimetro())"
      ],
      "metadata": {
        "colab": {
          "base_uri": "https://localhost:8080/"
        },
        "id": "lbU1BtSfccg-",
        "outputId": "170632f4-ae41-45f9-b5eb-f5c4faa16170"
      },
      "execution_count": null,
      "outputs": [
        {
          "output_type": "stream",
          "name": "stdout",
          "text": [
            "3 - 4\n",
            "12\n",
            "14\n"
          ]
        }
      ]
    },
    {
      "cell_type": "code",
      "source": [],
      "metadata": {
        "id": "wwEPQCLvdaqv"
      },
      "execution_count": null,
      "outputs": []
    },
    {
      "cell_type": "code",
      "source": [
        "cuadra1 = Cuadrado(5)\n",
        "print(cuadra1)\n",
        "print(cuadra1.area())\n",
        "print(cuadra1.perimetro())"
      ],
      "metadata": {
        "colab": {
          "base_uri": "https://localhost:8080/"
        },
        "id": "1J22KsrMeSTe",
        "outputId": "3ef8ce2d-a7fb-4bbf-8863-601bc7626121"
      },
      "execution_count": null,
      "outputs": [
        {
          "output_type": "stream",
          "name": "stdout",
          "text": [
            "5 - 5\n",
            "25\n",
            "20\n"
          ]
        }
      ]
    },
    {
      "cell_type": "markdown",
      "metadata": {
        "id": "30rZj5FbkT9T"
      },
      "source": [
        "### **Ejercicio 6**\n",
        "\n",
        "Las plataformas de música online como ***YouTube*** y ***Spotify*** almacenan la información asociada a las canciones en estructuras de datos complejas para hacer las búsquedas de manera eficiente. Para esto se deben modelar las canciones. Implementar el TDA \"Cancion\" con los siguientes componentes:\n",
        "- Nombre\n",
        "- Artista\n",
        "- Duración\n",
        "- Género musical (6 posibles: Rock, Jazz, Blues, Funk, Reggae y Rap).\n",
        "- Año de edición\n",
        "- Número de likes\n",
        "\n",
        "Implementar las siguientes operaciones:\n",
        "- Constructor: Debe incluir las validaciones necesarias.\n",
        "- \\_\\_repr__: Al usar la función *print* con una variable del tipo canción debe mostrar: **'nombre' - 'artista' ('duracion')**.\n",
        "- mayorDuracion: Operación que recibe dos canciones por parámetros y retorna la de mayor duración.\n",
        "- agregaLikes: Operación que recibe un número e incrementa la cantidad de likes de la canción en ese número.\n",
        "- masVotada: Operacion que recibe dos canciones y sin son del mismo artista y del mismo género musical, retorna la que tiene mayor cantidad de likes. En caso contrario debe lanzar una excepción."
      ]
    },
    {
      "cell_type": "code",
      "metadata": {
        "id": "6PllhJFLxsp_",
        "colab": {
          "base_uri": "https://localhost:8080/",
          "height": 106
        },
        "outputId": "5e2c1470-1b8b-431c-9f35-c1aad943cfce"
      },
      "source": [
        "\n",
        "def esStrVacio(palabra: str) ->bool:\n",
        "    return palabra.strip() == \"\"\n",
        "\n",
        "def validarTipoDeDato(variable: any, nombre: str, tipo: type) -> any:\n",
        "    if isinstance(variable, tipo):\n",
        "        return variable\n",
        "    raise TypeError(f\"la variable {nombre} debe ser de tipo {str(tipo)}\")\n",
        "\n",
        "def validarStrNoVacio(variable: any, nombre: str) -> str:\n",
        "    validarTipoDeDato(variable, nombre, str)\n",
        "    if not esStrVacio(variable):\n",
        "        return variable.strip()\n",
        "    raise ValueError(f\"el campo '{nombre}' no debe estar vacío\")\n",
        "\n",
        "def validarNumeroEnteroPositivo(variable: any, nombre: str) -> int:\n",
        "    validarTipoDeDato(variable, nombre, int)\n",
        "    if variable >= 0:\n",
        "        return variable\n",
        "    raise ValueError(f\"la variable {nombre} debe ser un numero entero positivo\")\n",
        "\n",
        "class Cancion:\n",
        "    GENEROS_VALIDOS = {\"Rock\", \"Jazz\", \"Blues\", \"Funk\", \"Reggae\", \"Rap\"}\n",
        "\n",
        "    def __init__(self, nombre: str, artista: str, duracion: Tiempo, generoMusical: str, anioDeEdicion: int, nroDeLikes: int) -> None:\n",
        "        self.__nombre = validarStrNoVacio(nombre, \"nombre de canción\")\n",
        "        self.__artista = validarStrNoVacio(artista, \"nombre de artista\")\n",
        "        self.__duracion = validarTipoDeDato(duracion, \"duración\", Tiempo)\n",
        "        self.__generoMusical = Cancion.validarGeneroMusical(generoMusical)\n",
        "        self.__anioDeEdicion = validarNumeroEnteroPositivo(anioDeEdicion, \"año de Edicion\")\n",
        "        self.__nroDeLikes = validarNumeroEnteroPositivo(nroDeLikes, \"numero de likes\")\n",
        "\n",
        "    def __repr__(self) -> str:\n",
        "        return f\"{self.__nombre} - {self.__artista} ({self.__duracion})\"\n",
        "\n",
        "    @property\n",
        "    def duracion(self) -> 'Tiempo':\n",
        "        return self.__duracion\n",
        "\n",
        "    @property\n",
        "    def nroDeLikes(self) -> int:\n",
        "        return self.__nroDeLikes\n",
        "\n",
        "    @property\n",
        "    def generoMusical(self) -> str:\n",
        "        return self.__generoMusical\n",
        "\n",
        "    @property\n",
        "    def artista(self) -> str:\n",
        "        return self.__artista\n",
        "\n",
        "    @classmethod\n",
        "    def validarGeneroMusical(cls, variable: any) -> str:\n",
        "        validarTipoDeDato(variable, \"género musical\", str)\n",
        "        generos_validos_minusculas = {genero.lower() for genero in cls.GENEROS_VALIDOS}\n",
        "        if variable not in generos_validos_minusculas:\n",
        "            raise ValueError(f\"El género musical debe ser uno de los siguientes: {', '.join(cls.GENEROS_VALIDOS)}\")\n",
        "        return variable.capitalize()\n",
        "\n",
        "    def mayorDuracionEntreCanciones(self, otraCancion: 'Cancion') -> 'Cancion':\n",
        "        duracionMayor = Tiempo.mayorDuracion(self.duracion, otraCancion.duracion)\n",
        "        return self if duracionMayor == self.duracion else otraCancion\n",
        "\n",
        "    def masVotada(self, otraCancion: 'Cancion') -> 'Cancion':\n",
        "        validarTipoDeDato(otraCancion, \"segunda cancion\", Cancion)\n",
        "\n",
        "        if not self.sonDelMismoArtista(otraCancion):\n",
        "            raise ValueError(f\"Las canciones no son del mismo artista: '{self.artista}' y '{otraCancion.artista}'\")\n",
        "\n",
        "        if not self.sonDelMismoGenero(otraCancion):\n",
        "            raise ValueError(f\"Las canciones no son del mismo género musical: '{self.generoMusical}' y '{otraCancion.generoMusical}'\")\n",
        "\n",
        "        return self if self.nroDeLikes > otraCancion.nroDeLikes else otraCancion\n",
        "\n",
        "    def sonDelMismoArtista(self, otraCancion: 'Cancion') -> bool:\n",
        "        return self.artista == otraCancion.artista\n",
        "\n",
        "    def sonDelMismoGenero(self, otraCancion: 'Cancion') -> bool:\n",
        "        return self.generoMusical == otraCancion.generoMusical\n",
        "\n",
        "    def agregaLikes(self, nroDeLikes: int) -> None:\n",
        "        validarEnteroPositivo(nroDeLikes, \"numero de likes a agregar\")\n",
        "        self.__nroDeLikes += nroDeLikes\n"
      ],
      "execution_count": null,
      "outputs": [
        {
          "output_type": "error",
          "ename": "IndentationError",
          "evalue": "expected an indented block after function definition on line 80 (<ipython-input-1-394101e28ce6>, line 81)",
          "traceback": [
            "\u001b[0;36m  File \u001b[0;32m\"<ipython-input-1-394101e28ce6>\"\u001b[0;36m, line \u001b[0;32m81\u001b[0m\n\u001b[0;31m    \"\"\"\u001b[0m\n\u001b[0m       ^\u001b[0m\n\u001b[0;31mIndentationError\u001b[0m\u001b[0;31m:\u001b[0m expected an indented block after function definition on line 80\n"
          ]
        }
      ]
    },
    {
      "cell_type": "markdown",
      "metadata": {
        "id": "1yx_0M8PtkmE"
      },
      "source": [
        "### **Ejercicio 7**\n",
        "\n",
        "Implementar el TDA \"Quiniela\" que modela un juego de quiniela con dos números premiados. La estructura contiene:\n",
        "- Primer número premiado\n",
        "- Segundo número premiado\n",
        "- Multiplicador (cuánto se paga por cada peso apostado)\n",
        "\n",
        "Implementar las siguientes operaciones:\n",
        "- Constructor: Debe incluir las validaciones necesarias, teniendo en cuenta que los números que participan se encuentran entre 0 y 999.\n",
        "- \\_\\_repr__: Al usar la función *print* con una variable del tipo quiniela debe mostrar: **Primer número ganador: 'numero' - Segundo número ganador: 'numero' - Paga: 'multiplicador'X**.\n",
        "- esNumeroGanador: Operación que recibe un número por parámetros y retorna *True* si el número resultó ganador o *False* en caso contrario.\n",
        "- importeAPagar: Operación que recibe un número y el monto apostado por parámetros y retorna el importe a pagar si la apuesta es ganadora o 0 en caso contrario. Si el número es el primer premio, se paga 'mutiplicador' por cada peso apostado, si es el segundo premio se paga la mitad. Solo se aceptan apuestas hasta $1000.\n",
        "- premiadosCercanos: Operación que retorna *True* si los números premiados están a menos de 10 números de distancia y *False* en caso contrario.\n",
        "\n",
        "\n"
      ]
    },
    {
      "cell_type": "code",
      "source": [
        "def validarTipo(variable: any, nombre: str, tipo: type) -> any:\n",
        "    \"\"\"\n",
        "       Valida que la variable sea del tipo especificado.\n",
        "\n",
        "       Args:\n",
        "          *variable: any - Indica la variable a validar.\n",
        "          *nombre: str - Indica El nombre de la variable, utilizado para mensajes de error.\n",
        "          *tipo: type - Indica el tipo esperado de la variable.\n",
        "\n",
        "       Returns:\n",
        "          any: Si la variable es del tipo especificado\n",
        "\n",
        "       Raises:\n",
        "          TypeError: Si la variable no es del tipo especificado\n",
        "\n",
        "       Preconditions:\n",
        "          La variable debe ser del tipo especificado.\n",
        "    \"\"\"\n",
        "    if isinstance(variable, tipo):\n",
        "        return variable\n",
        "    raise TypeError(f\"La variable {nombre} debe ser de tipo {tipo.__name__}\")\n",
        "\n",
        "def validarNumeroEnteroPositivo(numeroAValidar: int, nombre: str) -> int:\n",
        "    \"\"\"\n",
        "       Valida si un número es un entero positivo.\n",
        "\n",
        "       Args:\n",
        "          *numeroAValidar: int - Representa el número a validar.\n",
        "          *nombre: str - Describe el nombre del número.\n",
        "\n",
        "       Raises:\n",
        "          ValueError: Si el numero no es positivo\n",
        "          TypeError: Si el numero no es de tipo int\n",
        "\n",
        "       Returns:\n",
        "          int: El número validado.\n",
        "\n",
        "       Preconditions:\n",
        "          *El numero debe ser un entero positivo\n",
        "    \"\"\"\n",
        "\n",
        "    validarTipo(numeroAValidar, nombre, int)\n",
        "    if numeroAValidar >= 0:\n",
        "        return numeroAValidar\n",
        "    raise ValueError(f\"{nombre} debe ser un número entero positivo\")\n",
        "\n",
        "def validarNumeroFlotantePositivo(numeroAValidar: float, nombre: str) -> float:\n",
        "    validarTipo(numeroAValidar, nombre, float)\n",
        "    if numeroAValidar >= 0:\n",
        "        return numeroAValidar\n",
        "    raise ValueError(f\"{nombre} debe ser un número flotante positivo\")\n",
        "\n",
        "class Quiniela:\n",
        "    def __init__(self, primerNroPremiado: int, segundoNroPremiado: int, multiplicador: int) -> None:\n",
        "        self.__primerNroPremiado = validarNroPremiado(primerNroPremiado, \"Primer numero premiado\")\n",
        "        self.__segundoNroPremiado = validarNroPremiado(segundoNroPremiado, \"Segundo numero premiado\")\n",
        "        self.__multiplicador = validarNumeroEnteroPositivo(multiplicador, \"multiplicador por peso apostado\")\n",
        "\n",
        "    def __repr__(self) -> str:\n",
        "        return (f\"Primer número ganador: '{self.__primerNroPremiado}' - \"\n",
        "                f\"Segundo número ganador: '{self.__segundoNroPremiado}' - \"\n",
        "                f\"Paga: '{self.__multiplicador}x'\")\n",
        "    @property\n",
        "    def primerNroPremiado(self) -> int:\n",
        "        return self.__primerNroPremiado\n",
        "\n",
        "    @property\n",
        "    def segundoNroPremiado(self) -> int:\n",
        "        return self.__segundoNroPremiado\n",
        "\n",
        "    @property\n",
        "    def multiplicador(self) -> int:\n",
        "        return self.__multiplicador\n",
        "\n",
        "    def esNumeroGanador(self, numero: int) -> bool:\n",
        "        validarTipo(numero, \"numero apostado\", int)\n",
        "        return self.primerNroPremiado == numero or self.segundoNroPremiado == numero\n",
        "\n",
        "    @staticmethod\n",
        "    def validarApuesta(apuestaAValidar: float) -> float:\n",
        "        validarNumeroFlotantePositivo(apuestaAValidar, \"monto apostado\")\n",
        "        if apuestaAValidar <= 1000:\n",
        "            return apuestaAValidar\n",
        "        raise ValueError(f\"el monto apostado de {apuestaAValidar} no debe superar los 1000$\")\n",
        "\n",
        "    @staticmethod\n",
        "    def validarNroPremiado(nroPremiadoAValidar: int, nombre: str) -> int:\n",
        "        validarNumeroEnteroPositivo(nroPremiadoAValidar, nombre)\n",
        "        if nroPremiadoAValidar < 1000:\n",
        "            return nroPremiadoAValidar\n",
        "        raise ValueError(f\"El numero de {nroPremiadoAValidar} debe ser uno entre 0 y 999\")\n",
        "\n",
        "    def importeAPagar(self, numeroApostado: int, montoApostado: float) -> float:\n",
        "        validarApuesta(montoApostado)\n",
        "        if self.primerNroPremiado == numeroApostado:\n",
        "            return montoApostado * self.multiplicador\n",
        "        elif self.segundoNroPremiado == numeroApostado:\n",
        "            return montoApostado * 1.5\n",
        "        return 0\n",
        "\n",
        "    def premiadosCercanos(self) -> bool:\n",
        "        return abs(self.primerNroPremiado - self.segundoNroPremiado) < 10\n"
      ],
      "metadata": {
        "id": "05VjOJFp0UP2",
        "colab": {
          "base_uri": "https://localhost:8080/",
          "height": 70
        },
        "outputId": "04344a0d-2ed6-4460-d6ef-3254c9d4e0af"
      },
      "execution_count": null,
      "outputs": [
        {
          "output_type": "execute_result",
          "data": {
            "text/plain": [
              "\"\\nimporteAPagar: Operación que recibe un número y el monto apostado por parámetros y retorna\\nel importe a pagar si la apuesta es ganadora o 0 en caso contrario. Si el número es el primer premio,\\nse paga 'mutiplicador' por cada peso apostado, si es el segundo premio se paga la mitad. Solo se aceptan apuestas hasta $1000.\\n\""
            ],
            "application/vnd.google.colaboratory.intrinsic+json": {
              "type": "string"
            }
          },
          "metadata": {},
          "execution_count": 5
        }
      ]
    },
    {
      "cell_type": "code",
      "source": [],
      "metadata": {
        "id": "qfZSfusBOrxp"
      },
      "execution_count": null,
      "outputs": []
    }
  ]
}